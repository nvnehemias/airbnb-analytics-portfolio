# importing libaries
import pandas as pd
import numpy as np
import matplotlib.pyplot as plt
# import seaborn as sns
from datetime import datetime


ls


df_1 = pd.read_csv('airnb_clean.csv')



