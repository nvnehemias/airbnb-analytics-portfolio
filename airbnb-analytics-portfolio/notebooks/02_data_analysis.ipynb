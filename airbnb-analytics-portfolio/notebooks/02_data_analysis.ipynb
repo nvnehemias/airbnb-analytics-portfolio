{
 "cells": [
  {
   "cell_type": "code",
   "execution_count": 18,
   "id": "f1911961-bf54-44be-b8aa-4b6db667597b",
   "metadata": {},
   "outputs": [],
   "source": [
    "# importing libaries\n",
    "import pandas as pd\n",
    "import numpy as np\n",
    "import matplotlib.pyplot as plt\n",
    "# import seaborn as sns\n",
    "from datetime import datetime"
   ]
  },
  {
   "cell_type": "code",
   "execution_count": 19,
   "id": "463f7801-fba4-4324-be43-a1cc213ce612",
   "metadata": {},
   "outputs": [],
   "source": [
    "# cd data\n"
   ]
  },
  {
   "cell_type": "code",
   "execution_count": 20,
   "id": "fbc5363f-5a02-4c05-bd2e-3ccc1933e585",
   "metadata": {},
   "outputs": [],
   "source": [
    "df_1 = pd.read_csv('airnb_clean.csv')\n",
    "df_2 = pd.read_csv('airnb_desert_clean.csv')\n",
    "df_3 = pd.read_csv('airnb_luxe_clean.csv')"
   ]
  },
  {
   "cell_type": "code",
   "execution_count": 21,
   "id": "244a8f92-0dc1-4bfd-b9fa-11207172dbf9",
   "metadata": {},
   "outputs": [],
   "source": [
    "df_1_o = pd.read_csv('airnb.csv')\n",
    "df_2_o = pd.read_csv('airnb_desert.csv', encoding=\"cp1252\")\n",
    "df_3_o = pd.read_csv('airnb_luxe.csv', encoding=\"cp1252\")"
   ]
  },
  {
   "cell_type": "code",
   "execution_count": 22,
   "id": "9e155276-3ffc-4f6d-b08f-3897beb62167",
   "metadata": {},
   "outputs": [
    {
     "data": {
      "text/html": [
       "<div>\n",
       "<style scoped>\n",
       "    .dataframe tbody tr th:only-of-type {\n",
       "        vertical-align: middle;\n",
       "    }\n",
       "\n",
       "    .dataframe tbody tr th {\n",
       "        vertical-align: top;\n",
       "    }\n",
       "\n",
       "    .dataframe thead th {\n",
       "        text-align: right;\n",
       "    }\n",
       "</style>\n",
       "<table border=\"1\" class=\"dataframe\">\n",
       "  <thead>\n",
       "    <tr style=\"text-align: right;\">\n",
       "      <th></th>\n",
       "      <th>Title</th>\n",
       "      <th>Detail</th>\n",
       "      <th>Date</th>\n",
       "      <th>Price(in dollar)</th>\n",
       "      <th>Offer price(in dollar)</th>\n",
       "      <th>Review and rating</th>\n",
       "      <th>Number of bed</th>\n",
       "    </tr>\n",
       "  </thead>\n",
       "  <tbody>\n",
       "    <tr>\n",
       "      <th>0</th>\n",
       "      <td>Chalet in Skykomish, Washington, US</td>\n",
       "      <td>Sky Haus - A-Frame Cabin</td>\n",
       "      <td>Jun 11 - 16</td>\n",
       "      <td>306.00</td>\n",
       "      <td>229.00</td>\n",
       "      <td>4.85 (531)</td>\n",
       "      <td>4 beds</td>\n",
       "    </tr>\n",
       "    <tr>\n",
       "      <th>1</th>\n",
       "      <td>Cabin in Hancock, New York, US</td>\n",
       "      <td>The Catskill A-Frame - Mid-Century Modern Cabin</td>\n",
       "      <td>Jun 6 - 11</td>\n",
       "      <td>485.00</td>\n",
       "      <td>170.00</td>\n",
       "      <td>4.77 (146)</td>\n",
       "      <td>4 beds</td>\n",
       "    </tr>\n",
       "    <tr>\n",
       "      <th>2</th>\n",
       "      <td>Cabin in West Farmington, Ohio, US</td>\n",
       "      <td>The Triangle: A-Frame Cabin for your city retreat</td>\n",
       "      <td>Jul 9 - 14</td>\n",
       "      <td>119.00</td>\n",
       "      <td>522.00</td>\n",
       "      <td>4.91 (515)</td>\n",
       "      <td>4 beds</td>\n",
       "    </tr>\n",
       "    <tr>\n",
       "      <th>3</th>\n",
       "      <td>Home in Blue Ridge, Georgia, US</td>\n",
       "      <td>*Summer Sizzle* 5 Min to Blue Ridge* Pets* Hot...</td>\n",
       "      <td>Jun 11 - 16</td>\n",
       "      <td>192.00</td>\n",
       "      <td>348.00</td>\n",
       "      <td>4.94 (88)</td>\n",
       "      <td>5 beds</td>\n",
       "    </tr>\n",
       "    <tr>\n",
       "      <th>4</th>\n",
       "      <td>Treehouse in Grandview, Texas, US</td>\n",
       "      <td>Luxury Treehouse Couples Getaway w/ Peaceful V...</td>\n",
       "      <td>Jun 4 - 9</td>\n",
       "      <td>232.00</td>\n",
       "      <td>196.00</td>\n",
       "      <td>4.99 (222)</td>\n",
       "      <td>1 queen bed</td>\n",
       "    </tr>\n",
       "  </tbody>\n",
       "</table>\n",
       "</div>"
      ],
      "text/plain": [
       "                                 Title  \\\n",
       "0  Chalet in Skykomish, Washington, US   \n",
       "1       Cabin in Hancock, New York, US   \n",
       "2   Cabin in West Farmington, Ohio, US   \n",
       "3      Home in Blue Ridge, Georgia, US   \n",
       "4    Treehouse in Grandview, Texas, US   \n",
       "\n",
       "                                              Detail         Date  \\\n",
       "0                           Sky Haus - A-Frame Cabin  Jun 11 - 16   \n",
       "1    The Catskill A-Frame - Mid-Century Modern Cabin   Jun 6 - 11   \n",
       "2  The Triangle: A-Frame Cabin for your city retreat   Jul 9 - 14   \n",
       "3  *Summer Sizzle* 5 Min to Blue Ridge* Pets* Hot...  Jun 11 - 16   \n",
       "4  Luxury Treehouse Couples Getaway w/ Peaceful V...    Jun 4 - 9   \n",
       "\n",
       "  Price(in dollar) Offer price(in dollar) Review and rating Number of bed  \n",
       "0           306.00                 229.00        4.85 (531)        4 beds  \n",
       "1           485.00                 170.00        4.77 (146)        4 beds  \n",
       "2           119.00                 522.00        4.91 (515)        4 beds  \n",
       "3           192.00                 348.00         4.94 (88)        5 beds  \n",
       "4           232.00                 196.00        4.99 (222)   1 queen bed  "
      ]
     },
     "execution_count": 22,
     "metadata": {},
     "output_type": "execute_result"
    }
   ],
   "source": [
    "df_1_o.head()"
   ]
  },
  {
   "cell_type": "code",
   "execution_count": 23,
   "id": "b9c4940c-3adb-40d4-a15d-35dccf45c497",
   "metadata": {},
   "outputs": [],
   "source": [
    "df_1 = df_1.drop(columns=['Unnamed: 0'])"
   ]
  },
  {
   "cell_type": "code",
   "execution_count": 24,
   "id": "78e18134-c660-44fa-ac8a-5c5d485beeed",
   "metadata": {},
   "outputs": [],
   "source": [
    "# df_1.groupby(['Start Month']).sum(['Price(in dollar)']).reset_index()\n",
    "price_by_start_month = df_1.groupby('Start Month')['Price(in dollar)'].sum().reset_index().sort_values(by = 'Price(in dollar)', ascending = False)\n",
    "min_price_by_start_month = df_1.groupby('Start Month')['Price(in dollar)'].min().reset_index().sort_values(by = 'Price(in dollar)', ascending = False)\n",
    "max_price_by_start_month = df_1.groupby('Start Month')['Price(in dollar)'].max().reset_index().sort_values(by = 'Price(in dollar)', ascending = False)\n",
    "mean_price_by_start_month = df_1.groupby('Start Month')['Price(in dollar)'].mean().reset_index().sort_values(by = 'Price(in dollar)', ascending = False)"
   ]
  },
  {
   "cell_type": "code",
   "execution_count": 25,
   "id": "be867ee6-631d-43ea-b23c-b1a7d58259a7",
   "metadata": {
    "scrolled": true
   },
   "outputs": [
    {
     "data": {
      "text/html": [
       "<div>\n",
       "<style scoped>\n",
       "    .dataframe tbody tr th:only-of-type {\n",
       "        vertical-align: middle;\n",
       "    }\n",
       "\n",
       "    .dataframe tbody tr th {\n",
       "        vertical-align: top;\n",
       "    }\n",
       "\n",
       "    .dataframe thead th {\n",
       "        text-align: right;\n",
       "    }\n",
       "</style>\n",
       "<table border=\"1\" class=\"dataframe\">\n",
       "  <thead>\n",
       "    <tr style=\"text-align: right;\">\n",
       "      <th></th>\n",
       "      <th>Start Month</th>\n",
       "      <th>Price(in dollar)</th>\n",
       "    </tr>\n",
       "  </thead>\n",
       "  <tbody>\n",
       "    <tr>\n",
       "      <th>3</th>\n",
       "      <td>June</td>\n",
       "      <td>16194.0</td>\n",
       "    </tr>\n",
       "    <tr>\n",
       "      <th>2</th>\n",
       "      <td>July</td>\n",
       "      <td>3768.0</td>\n",
       "    </tr>\n",
       "    <tr>\n",
       "      <th>7</th>\n",
       "      <td>September</td>\n",
       "      <td>2358.0</td>\n",
       "    </tr>\n",
       "    <tr>\n",
       "      <th>4</th>\n",
       "      <td>May</td>\n",
       "      <td>2224.0</td>\n",
       "    </tr>\n",
       "    <tr>\n",
       "      <th>0</th>\n",
       "      <td>August</td>\n",
       "      <td>2183.0</td>\n",
       "    </tr>\n",
       "    <tr>\n",
       "      <th>6</th>\n",
       "      <td>October</td>\n",
       "      <td>541.0</td>\n",
       "    </tr>\n",
       "    <tr>\n",
       "      <th>1</th>\n",
       "      <td>January</td>\n",
       "      <td>513.0</td>\n",
       "    </tr>\n",
       "    <tr>\n",
       "      <th>5</th>\n",
       "      <td>November</td>\n",
       "      <td>60.0</td>\n",
       "    </tr>\n",
       "  </tbody>\n",
       "</table>\n",
       "</div>"
      ],
      "text/plain": [
       "  Start Month  Price(in dollar)\n",
       "3        June           16194.0\n",
       "2        July            3768.0\n",
       "7   September            2358.0\n",
       "4         May            2224.0\n",
       "0      August            2183.0\n",
       "6     October             541.0\n",
       "1     January             513.0\n",
       "5    November              60.0"
      ]
     },
     "execution_count": 25,
     "metadata": {},
     "output_type": "execute_result"
    }
   ],
   "source": [
    "price_by_start_month"
   ]
  },
  {
   "cell_type": "code",
   "execution_count": 26,
   "id": "872190d0-eafa-4870-ad49-425ed8977725",
   "metadata": {
    "scrolled": true
   },
   "outputs": [
    {
     "data": {
      "text/html": [
       "<div>\n",
       "<style scoped>\n",
       "    .dataframe tbody tr th:only-of-type {\n",
       "        vertical-align: middle;\n",
       "    }\n",
       "\n",
       "    .dataframe tbody tr th {\n",
       "        vertical-align: top;\n",
       "    }\n",
       "\n",
       "    .dataframe thead th {\n",
       "        text-align: right;\n",
       "    }\n",
       "</style>\n",
       "<table border=\"1\" class=\"dataframe\">\n",
       "  <thead>\n",
       "    <tr style=\"text-align: right;\">\n",
       "      <th></th>\n",
       "      <th>Start Month</th>\n",
       "      <th>Price(in dollar)</th>\n",
       "    </tr>\n",
       "  </thead>\n",
       "  <tbody>\n",
       "    <tr>\n",
       "      <th>1</th>\n",
       "      <td>January</td>\n",
       "      <td>513.0</td>\n",
       "    </tr>\n",
       "    <tr>\n",
       "      <th>4</th>\n",
       "      <td>May</td>\n",
       "      <td>90.0</td>\n",
       "    </tr>\n",
       "    <tr>\n",
       "      <th>6</th>\n",
       "      <td>October</td>\n",
       "      <td>76.0</td>\n",
       "    </tr>\n",
       "    <tr>\n",
       "      <th>5</th>\n",
       "      <td>November</td>\n",
       "      <td>60.0</td>\n",
       "    </tr>\n",
       "    <tr>\n",
       "      <th>7</th>\n",
       "      <td>September</td>\n",
       "      <td>43.0</td>\n",
       "    </tr>\n",
       "    <tr>\n",
       "      <th>2</th>\n",
       "      <td>July</td>\n",
       "      <td>32.0</td>\n",
       "    </tr>\n",
       "    <tr>\n",
       "      <th>0</th>\n",
       "      <td>August</td>\n",
       "      <td>30.0</td>\n",
       "    </tr>\n",
       "    <tr>\n",
       "      <th>3</th>\n",
       "      <td>June</td>\n",
       "      <td>17.0</td>\n",
       "    </tr>\n",
       "  </tbody>\n",
       "</table>\n",
       "</div>"
      ],
      "text/plain": [
       "  Start Month  Price(in dollar)\n",
       "1     January             513.0\n",
       "4         May              90.0\n",
       "6     October              76.0\n",
       "5    November              60.0\n",
       "7   September              43.0\n",
       "2        July              32.0\n",
       "0      August              30.0\n",
       "3        June              17.0"
      ]
     },
     "execution_count": 26,
     "metadata": {},
     "output_type": "execute_result"
    }
   ],
   "source": [
    "min_price_by_start_month"
   ]
  },
  {
   "cell_type": "code",
   "execution_count": 27,
   "id": "fc9daccb-fab6-4941-8775-95dd1d3fe6e6",
   "metadata": {},
   "outputs": [
    {
     "data": {
      "text/html": [
       "<div>\n",
       "<style scoped>\n",
       "    .dataframe tbody tr th:only-of-type {\n",
       "        vertical-align: middle;\n",
       "    }\n",
       "\n",
       "    .dataframe tbody tr th {\n",
       "        vertical-align: top;\n",
       "    }\n",
       "\n",
       "    .dataframe thead th {\n",
       "        text-align: right;\n",
       "    }\n",
       "</style>\n",
       "<table border=\"1\" class=\"dataframe\">\n",
       "  <thead>\n",
       "    <tr style=\"text-align: right;\">\n",
       "      <th></th>\n",
       "      <th>Start Month</th>\n",
       "      <th>Price(in dollar)</th>\n",
       "    </tr>\n",
       "  </thead>\n",
       "  <tbody>\n",
       "    <tr>\n",
       "      <th>1</th>\n",
       "      <td>January</td>\n",
       "      <td>513.000000</td>\n",
       "    </tr>\n",
       "    <tr>\n",
       "      <th>7</th>\n",
       "      <td>September</td>\n",
       "      <td>235.800000</td>\n",
       "    </tr>\n",
       "    <tr>\n",
       "      <th>4</th>\n",
       "      <td>May</td>\n",
       "      <td>185.333333</td>\n",
       "    </tr>\n",
       "    <tr>\n",
       "      <th>0</th>\n",
       "      <td>August</td>\n",
       "      <td>181.916667</td>\n",
       "    </tr>\n",
       "    <tr>\n",
       "      <th>3</th>\n",
       "      <td>June</td>\n",
       "      <td>160.336634</td>\n",
       "    </tr>\n",
       "    <tr>\n",
       "      <th>2</th>\n",
       "      <td>July</td>\n",
       "      <td>150.720000</td>\n",
       "    </tr>\n",
       "    <tr>\n",
       "      <th>6</th>\n",
       "      <td>October</td>\n",
       "      <td>135.250000</td>\n",
       "    </tr>\n",
       "    <tr>\n",
       "      <th>5</th>\n",
       "      <td>November</td>\n",
       "      <td>60.000000</td>\n",
       "    </tr>\n",
       "  </tbody>\n",
       "</table>\n",
       "</div>"
      ],
      "text/plain": [
       "  Start Month  Price(in dollar)\n",
       "1     January        513.000000\n",
       "7   September        235.800000\n",
       "4         May        185.333333\n",
       "0      August        181.916667\n",
       "3        June        160.336634\n",
       "2        July        150.720000\n",
       "6     October        135.250000\n",
       "5    November         60.000000"
      ]
     },
     "execution_count": 27,
     "metadata": {},
     "output_type": "execute_result"
    }
   ],
   "source": [
    "mean_price_by_start_month"
   ]
  },
  {
   "cell_type": "code",
   "execution_count": 28,
   "id": "bc0985ab-a482-4ae8-ae5e-21e0e3404dd0",
   "metadata": {},
   "outputs": [
    {
     "data": {
      "text/html": [
       "<div>\n",
       "<style scoped>\n",
       "    .dataframe tbody tr th:only-of-type {\n",
       "        vertical-align: middle;\n",
       "    }\n",
       "\n",
       "    .dataframe tbody tr th {\n",
       "        vertical-align: top;\n",
       "    }\n",
       "\n",
       "    .dataframe thead th {\n",
       "        text-align: right;\n",
       "    }\n",
       "</style>\n",
       "<table border=\"1\" class=\"dataframe\">\n",
       "  <thead>\n",
       "    <tr style=\"text-align: right;\">\n",
       "      <th></th>\n",
       "      <th>Start Month</th>\n",
       "      <th>Price(in dollar)</th>\n",
       "    </tr>\n",
       "  </thead>\n",
       "  <tbody>\n",
       "    <tr>\n",
       "      <th>3</th>\n",
       "      <td>June</td>\n",
       "      <td>1463.0</td>\n",
       "    </tr>\n",
       "    <tr>\n",
       "      <th>7</th>\n",
       "      <td>September</td>\n",
       "      <td>735.0</td>\n",
       "    </tr>\n",
       "    <tr>\n",
       "      <th>4</th>\n",
       "      <td>May</td>\n",
       "      <td>668.0</td>\n",
       "    </tr>\n",
       "    <tr>\n",
       "      <th>1</th>\n",
       "      <td>January</td>\n",
       "      <td>513.0</td>\n",
       "    </tr>\n",
       "    <tr>\n",
       "      <th>2</th>\n",
       "      <td>July</td>\n",
       "      <td>473.0</td>\n",
       "    </tr>\n",
       "    <tr>\n",
       "      <th>0</th>\n",
       "      <td>August</td>\n",
       "      <td>335.0</td>\n",
       "    </tr>\n",
       "    <tr>\n",
       "      <th>6</th>\n",
       "      <td>October</td>\n",
       "      <td>194.0</td>\n",
       "    </tr>\n",
       "    <tr>\n",
       "      <th>5</th>\n",
       "      <td>November</td>\n",
       "      <td>60.0</td>\n",
       "    </tr>\n",
       "  </tbody>\n",
       "</table>\n",
       "</div>"
      ],
      "text/plain": [
       "  Start Month  Price(in dollar)\n",
       "3        June            1463.0\n",
       "7   September             735.0\n",
       "4         May             668.0\n",
       "1     January             513.0\n",
       "2        July             473.0\n",
       "0      August             335.0\n",
       "6     October             194.0\n",
       "5    November              60.0"
      ]
     },
     "execution_count": 28,
     "metadata": {},
     "output_type": "execute_result"
    }
   ],
   "source": [
    "max_price_by_start_month"
   ]
  },
  {
   "cell_type": "markdown",
   "id": "7b8eaf54-2bfc-4cde-826e-bf5ae7c73698",
   "metadata": {},
   "source": [
    "### The month of June is exceptionally high total price (in dollars)."
   ]
  },
  {
   "cell_type": "code",
   "execution_count": 29,
   "id": "acb147c9-1e9f-4f6b-a012-f7b69075fd09",
   "metadata": {},
   "outputs": [],
   "source": [
    "june_only = df_1[df_1['Start Month'] == 'June'].sort_values(by = 'Price(in dollar)', ascending = False)"
   ]
  },
  {
   "cell_type": "code",
   "execution_count": 39,
   "id": "14305099-832a-478b-967d-b7c1872cac74",
   "metadata": {},
   "outputs": [
    {
     "data": {
      "image/png": "[encoded data removed]",
      "text/plain": [
       "<Figure size 432x288 with 1 Axes>"
      ]
     },
     "metadata": {
      "needs_background": "light"
     },
     "output_type": "display_data"
    }
   ],
   "source": [
    "price_by_start_month.plot.bar(\n",
    "    x = 'Start Month',\n",
    "    y = 'Price(in dollar)',\n",
    "    title = 'Price (In Dollars)by Starting Month'\n",
    ")\n",
    "plt.show()"
   ]
  },
  {
   "cell_type": "code",
   "execution_count": 33,
   "id": "e4ba2ce9-817a-4587-85d7-4ffa1e4a775d",
   "metadata": {},
   "outputs": [
    {
     "data": {
      "image/png": "[encoded data removed]",
      "text/plain": [
       "<Figure size 720x432 with 1 Axes>"
      ]
     },
     "metadata": {
      "needs_background": "light"
     },
     "output_type": "display_data"
    }
   ],
   "source": [
    "# trying to find outliers\n",
    "\n",
    "plt.figure(figsize=(10,6))\n",
    "plt.hist(june_only['Price(in dollar)'], bins=50, edgecolor='black')\n",
    "plt.title(\"Distribution of June Airbnb Prices (In Dollars)\")\n",
    "plt.xlabel(\"Price\")\n",
    "plt.ylabel(\"Number of Listings\")\n",
    "plt.show()"
   ]
  },
  {
   "cell_type": "code",
   "execution_count": 45,
   "id": "7e84b86e-a74f-4407-ad19-78dd2dc9464e",
   "metadata": {},
   "outputs": [],
   "source": [
    "df_1_sorted = df_1.sort_values(by = 'Price(in dollar)', ascending = False)"
   ]
  },
  {
   "cell_type": "code",
   "execution_count": 50,
   "id": "21ec56ac-b749-4c57-9ce8-4edf5ac5bb15",
   "metadata": {},
   "outputs": [],
   "source": [
    "df_1_clean = df_1_sorted[df_1_sorted['Price(in dollar)'] < 1463]"
   ]
  },
  {
   "cell_type": "code",
   "execution_count": 52,
   "id": "1be2455b-91fe-4a4c-9cb4-57c319f85edb",
   "metadata": {},
   "outputs": [],
   "source": [
    "price_by_s_m = df_1_clean.groupby('Start Month')['Price(in dollar)'].sum().reset_index().sort_values(by = 'Price(in dollar)', ascending = False)"
   ]
  },
  {
   "cell_type": "code",
   "execution_count": 55,
   "id": "eb567310-11de-43b1-b45c-19634d6c7a13",
   "metadata": {},
   "outputs": [
    {
     "data": {
      "text/plain": [
       "<matplotlib.axes._subplots.AxesSubplot at 0x7fd3586651f0>"
      ]
     },
     "execution_count": 55,
     "metadata": {},
     "output_type": "execute_result"
    },
    {
     "data": {
      "image/png": "[encoded data removed]",
      "text/plain": [
       "<Figure size 576x432 with 1 Axes>"
      ]
     },
     "metadata": {
      "needs_background": "light"
     },
     "output_type": "display_data"
    }
   ],
   "source": [
    "price_by_s_m.plot(x = 'Start Month', y = 'Price(in dollar)', kind = 'bar', figsize = (8,6))"
   ]
  },
  {
   "cell_type": "markdown",
   "id": "3bd8973a-c74c-4ed9-8cd1-aece24c58048",
   "metadata": {},
   "source": [
    "### Plot All Months by Distribution"
   ]
  },
  {
   "cell_type": "code",
   "execution_count": 60,
   "id": "3b2efa0e-b7b7-4ffe-a06f-efc94a01023a",
   "metadata": {},
   "outputs": [],
   "source": [
    "df_grouped = df_1_clean.groupby('Start Month').sum().reset_index()"
   ]
  },
  {
   "cell_type": "code",
   "execution_count": 63,
   "id": "f48a0231-7044-4e0d-b7b1-a172c0dad5ea",
   "metadata": {},
   "outputs": [
    {
     "data": {
      "text/plain": [
       "'August'"
      ]
     },
     "execution_count": 63,
     "metadata": {},
     "output_type": "execute_result"
    }
   ],
   "source": [
    "df_grouped['Start Month'][0]"
   ]
  },
  {
   "cell_type": "code",
   "execution_count": 89,
   "id": "85926325-210f-47c6-a790-6926458af0fc",
   "metadata": {},
   "outputs": [],
   "source": [
    "df = df_1_clean['Start Month'].unique().tolist()"
   ]
  },
  {
   "cell_type": "code",
   "execution_count": 93,
   "id": "fc8761b3-9719-445a-8d88-884237ff22f7",
   "metadata": {},
   "outputs": [
    {
     "data": {
      "text/plain": [
       "'June'"
      ]
     },
     "execution_count": 93,
     "metadata": {},
     "output_type": "execute_result"
    }
   ],
   "source": [
    "df[0]"
   ]
  },
  {
   "cell_type": "code",
   "execution_count": 136,
   "id": "e6601b73-0105-4a9e-b35a-a4bc55225387",
   "metadata": {},
   "outputs": [],
   "source": [
    "def month_df(df, column_name):\n",
    "    list_df = []\n",
    "    for i in df[column_name].unique().tolist():\n",
    "        var_name = f\"df_{i}\"\n",
    "        globals()[var_name] = df[df[column_name] == i]\n",
    "        list_df.append(globals()[var_name])\n",
    "        print(f\"Created variable: {var_name}\")\n",
    "    return list_df"
   ]
  },
  {
   "cell_type": "code",
   "execution_count": 138,
   "id": "a996e8ad-9025-4cdd-8319-e9c83d2ef865",
   "metadata": {},
   "outputs": [
    {
     "name": "stdout",
     "output_type": "stream",
     "text": [
      "Created variable: df_June\n",
      "Created variable: df_September\n",
      "Created variable: df_May\n",
      "Created variable: df_January\n",
      "Created variable: df_July\n",
      "Created variable: df_August\n",
      "Created variable: df_October\n",
      "Created variable: df_November\n"
     ]
    }
   ],
   "source": [
    "list_dfs = month_df(df_1_clean,'Start Month');"
   ]
  },
  {
   "cell_type": "code",
   "execution_count": 140,
   "id": "1592d948-09bc-4b1c-b381-7e19bfabdf51",
   "metadata": {},
   "outputs": [
    {
     "data": {
      "text/html": [
       "<div>\n",
       "<style scoped>\n",
       "    .dataframe tbody tr th:only-of-type {\n",
       "        vertical-align: middle;\n",
       "    }\n",
       "\n",
       "    .dataframe tbody tr th {\n",
       "        vertical-align: top;\n",
       "    }\n",
       "\n",
       "    .dataframe thead th {\n",
       "        text-align: right;\n",
       "    }\n",
       "</style>\n",
       "<table border=\"1\" class=\"dataframe\">\n",
       "  <thead>\n",
       "    <tr style=\"text-align: right;\">\n",
       "      <th></th>\n",
       "      <th>Title</th>\n",
       "      <th>Detail</th>\n",
       "      <th>Date Range</th>\n",
       "      <th>Start Month</th>\n",
       "      <th>Start Date</th>\n",
       "      <th>End Month</th>\n",
       "      <th>End Date</th>\n",
       "      <th>Price(in dollar)</th>\n",
       "      <th>Offer price(in dollar)</th>\n",
       "      <th>Review and rating</th>\n",
       "      <th>Number of bed</th>\n",
       "    </tr>\n",
       "  </thead>\n",
       "  <tbody>\n",
       "    <tr>\n",
       "      <th>12</th>\n",
       "      <td>Cottage in Wheatley, Canada</td>\n",
       "      <td>Cozy Modern Beach House w/ Pool, Hot Tub &amp; More!</td>\n",
       "      <td>Jun 4 - 11</td>\n",
       "      <td>June</td>\n",
       "      <td>4</td>\n",
       "      <td>June</td>\n",
       "      <td>11</td>\n",
       "      <td>764.0</td>\n",
       "      <td>819.0</td>\n",
       "      <td>4.74 (19)</td>\n",
       "      <td>2 queen beds</td>\n",
       "    </tr>\n",
       "    <tr>\n",
       "      <th>114</th>\n",
       "      <td>Villa in Bacnotan, La Union, Philippines</td>\n",
       "      <td>Private Modern Beachfront Villa: Pool, Sunset ...</td>\n",
       "      <td>Jun 28 - Jul 3</td>\n",
       "      <td>June</td>\n",
       "      <td>28</td>\n",
       "      <td>July</td>\n",
       "      <td>Jul</td>\n",
       "      <td>628.0</td>\n",
       "      <td>189.0</td>\n",
       "      <td>5.0 (15)</td>\n",
       "      <td>6 beds</td>\n",
       "    </tr>\n",
       "    <tr>\n",
       "      <th>1</th>\n",
       "      <td>Cabin in Hancock, New York, US</td>\n",
       "      <td>The Catskill A-Frame - Mid-Century Modern Cabin</td>\n",
       "      <td>Jun 6 - 11</td>\n",
       "      <td>June</td>\n",
       "      <td>6</td>\n",
       "      <td>June</td>\n",
       "      <td>11</td>\n",
       "      <td>485.0</td>\n",
       "      <td>170.0</td>\n",
       "      <td>4.77 (146)</td>\n",
       "      <td>4 beds</td>\n",
       "    </tr>\n",
       "    <tr>\n",
       "      <th>15</th>\n",
       "      <td>Home in Shirley, Canada</td>\n",
       "      <td>♨ Cedar Coast Lodge - Coastal retreat w/ HOT TUB</td>\n",
       "      <td>Jun 4 - 9</td>\n",
       "      <td>June</td>\n",
       "      <td>4</td>\n",
       "      <td>June</td>\n",
       "      <td>9</td>\n",
       "      <td>480.0</td>\n",
       "      <td>290.0</td>\n",
       "      <td>4.82 (125)</td>\n",
       "      <td>5 beds</td>\n",
       "    </tr>\n",
       "    <tr>\n",
       "      <th>118</th>\n",
       "      <td>Villa in Banjar, Indonesia</td>\n",
       "      <td>4br Lovina Paradise - Ocean View</td>\n",
       "      <td>Jun 9 - 14</td>\n",
       "      <td>June</td>\n",
       "      <td>9</td>\n",
       "      <td>June</td>\n",
       "      <td>14</td>\n",
       "      <td>460.0</td>\n",
       "      <td>275.0</td>\n",
       "      <td>4.93 (40)</td>\n",
       "      <td>4 king beds</td>\n",
       "    </tr>\n",
       "    <tr>\n",
       "      <th>...</th>\n",
       "      <td>...</td>\n",
       "      <td>...</td>\n",
       "      <td>...</td>\n",
       "      <td>...</td>\n",
       "      <td>...</td>\n",
       "      <td>...</td>\n",
       "      <td>...</td>\n",
       "      <td>...</td>\n",
       "      <td>...</td>\n",
       "      <td>...</td>\n",
       "      <td>...</td>\n",
       "    </tr>\n",
       "    <tr>\n",
       "      <th>137</th>\n",
       "      <td>Apartment in Melaka, Malaysia</td>\n",
       "      <td>B1933B/5 min drive to Jonker/Seaview/Imperio/4...</td>\n",
       "      <td>Jun 18 - 24</td>\n",
       "      <td>June</td>\n",
       "      <td>18</td>\n",
       "      <td>June</td>\n",
       "      <td>24</td>\n",
       "      <td>24.0</td>\n",
       "      <td>47.0</td>\n",
       "      <td>4.69 (196)</td>\n",
       "      <td>4 beds</td>\n",
       "    </tr>\n",
       "    <tr>\n",
       "      <th>111</th>\n",
       "      <td>Place to stay in Thành phố Hội An, Vietnam</td>\n",
       "      <td>Garden view twin room with breakfast-Ngan Phu</td>\n",
       "      <td>Jun 10 - 17</td>\n",
       "      <td>June</td>\n",
       "      <td>10</td>\n",
       "      <td>June</td>\n",
       "      <td>17</td>\n",
       "      <td>24.0</td>\n",
       "      <td>116.0</td>\n",
       "      <td>4.85 (255)</td>\n",
       "      <td>2 single beds</td>\n",
       "    </tr>\n",
       "    <tr>\n",
       "      <th>132</th>\n",
       "      <td>Condo in Melaka, Malaysia</td>\n",
       "      <td>B1731/Seaview/5 mine drive to Jonker/Imperio/4...</td>\n",
       "      <td>Jun 13 - 19</td>\n",
       "      <td>June</td>\n",
       "      <td>13</td>\n",
       "      <td>June</td>\n",
       "      <td>19</td>\n",
       "      <td>23.0</td>\n",
       "      <td>33.0</td>\n",
       "      <td>4.54 (209)</td>\n",
       "      <td>3 beds</td>\n",
       "    </tr>\n",
       "    <tr>\n",
       "      <th>124</th>\n",
       "      <td>Apartment in Bangkok, Thailand</td>\n",
       "      <td>Spacious Apt in City of Angels</td>\n",
       "      <td>Jun 8 - 13</td>\n",
       "      <td>June</td>\n",
       "      <td>8</td>\n",
       "      <td>June</td>\n",
       "      <td>13</td>\n",
       "      <td>19.0</td>\n",
       "      <td>46.0</td>\n",
       "      <td>4.95 (438)</td>\n",
       "      <td>1 king bed</td>\n",
       "    </tr>\n",
       "    <tr>\n",
       "      <th>139</th>\n",
       "      <td>Hotel in Nha Trang, Vietnam</td>\n",
       "      <td>VENUE HOTEL-20% Superior City NiceWindow#Good ...</td>\n",
       "      <td>Jun 4 - 9</td>\n",
       "      <td>June</td>\n",
       "      <td>4</td>\n",
       "      <td>June</td>\n",
       "      <td>9</td>\n",
       "      <td>17.0</td>\n",
       "      <td>177.0</td>\n",
       "      <td>4.35 (17)</td>\n",
       "      <td>1 bed</td>\n",
       "    </tr>\n",
       "  </tbody>\n",
       "</table>\n",
       "<p>100 rows × 11 columns</p>\n",
       "</div>"
      ],
      "text/plain": [
       "                                          Title  \\\n",
       "12                  Cottage in Wheatley, Canada   \n",
       "114    Villa in Bacnotan, La Union, Philippines   \n",
       "1                Cabin in Hancock, New York, US   \n",
       "15                      Home in Shirley, Canada   \n",
       "118                  Villa in Banjar, Indonesia   \n",
       "..                                          ...   \n",
       "137               Apartment in Melaka, Malaysia   \n",
       "111  Place to stay in Thành phố Hội An, Vietnam   \n",
       "132                   Condo in Melaka, Malaysia   \n",
       "124              Apartment in Bangkok, Thailand   \n",
       "139                 Hotel in Nha Trang, Vietnam   \n",
       "\n",
       "                                                Detail      Date Range  \\\n",
       "12    Cozy Modern Beach House w/ Pool, Hot Tub & More!      Jun 4 - 11   \n",
       "114  Private Modern Beachfront Villa: Pool, Sunset ...  Jun 28 - Jul 3   \n",
       "1      The Catskill A-Frame - Mid-Century Modern Cabin      Jun 6 - 11   \n",
       "15    ♨ Cedar Coast Lodge - Coastal retreat w/ HOT TUB       Jun 4 - 9   \n",
       "118                   4br Lovina Paradise - Ocean View      Jun 9 - 14   \n",
       "..                                                 ...             ...   \n",
       "137  B1933B/5 min drive to Jonker/Seaview/Imperio/4...     Jun 18 - 24   \n",
       "111      Garden view twin room with breakfast-Ngan Phu     Jun 10 - 17   \n",
       "132  B1731/Seaview/5 mine drive to Jonker/Imperio/4...     Jun 13 - 19   \n",
       "124                     Spacious Apt in City of Angels      Jun 8 - 13   \n",
       "139  VENUE HOTEL-20% Superior City NiceWindow#Good ...       Jun 4 - 9   \n",
       "\n",
       "    Start Month  Start Date End Month End Date  Price(in dollar)  \\\n",
       "12         June           4      June       11             764.0   \n",
       "114        June          28      July      Jul             628.0   \n",
       "1          June           6      June       11             485.0   \n",
       "15         June           4      June        9             480.0   \n",
       "118        June           9      June       14             460.0   \n",
       "..          ...         ...       ...      ...               ...   \n",
       "137        June          18      June       24              24.0   \n",
       "111        June          10      June       17              24.0   \n",
       "132        June          13      June       19              23.0   \n",
       "124        June           8      June       13              19.0   \n",
       "139        June           4      June        9              17.0   \n",
       "\n",
       "     Offer price(in dollar) Review and rating  Number of bed  \n",
       "12                    819.0         4.74 (19)   2 queen beds  \n",
       "114                   189.0          5.0 (15)         6 beds  \n",
       "1                     170.0        4.77 (146)         4 beds  \n",
       "15                    290.0        4.82 (125)         5 beds  \n",
       "118                   275.0         4.93 (40)    4 king beds  \n",
       "..                      ...               ...            ...  \n",
       "137                    47.0        4.69 (196)         4 beds  \n",
       "111                   116.0        4.85 (255)  2 single beds  \n",
       "132                    33.0        4.54 (209)         3 beds  \n",
       "124                    46.0        4.95 (438)     1 king bed  \n",
       "139                   177.0         4.35 (17)          1 bed  \n",
       "\n",
       "[100 rows x 11 columns]"
      ]
     },
     "execution_count": 140,
     "metadata": {},
     "output_type": "execute_result"
    }
   ],
   "source": [
    "def create_histo(list):\n",
    "    "
   ]
  },
  {
   "cell_type": "code",
   "execution_count": null,
   "id": "c6046c6c-825d-4c78-9e40-808771768d70",
   "metadata": {},
   "outputs": [],
   "source": [
    "# trying to find outliers\n",
    "\n",
    "plt.figure(figsize=(10,6))\n",
    "plt.hist(june_only['Price(in dollar)'], bins=50, edgecolor='black')\n",
    "plt.title(\"Distribution of June Airbnb Prices (In Dollars)\")\n",
    "plt.xlabel(\"Price\")\n",
    "plt.ylabel(\"Number of Listings\")\n",
    "plt.show()"
   ]
  },
  {
   "cell_type": "code",
   "execution_count": null,
   "id": "ceeecddb-a1da-42b7-85bf-6698b66e37f6",
   "metadata": {},
   "outputs": [],
   "source": []
  },
  {
   "cell_type": "code",
   "execution_count": null,
   "id": "c95cd150-3b77-4dc9-8650-2150587be8d3",
   "metadata": {},
   "outputs": [],
   "source": []
  },
  {
   "cell_type": "code",
   "execution_count": null,
   "id": "358e40af-0d5a-4729-93e3-3167fd64c41c",
   "metadata": {},
   "outputs": [],
   "source": []
  },
  {
   "cell_type": "code",
   "execution_count": null,
   "id": "c7ac80ac-b7f0-46eb-a280-7be308f153fa",
   "metadata": {},
   "outputs": [],
   "source": []
  },
  {
   "cell_type": "code",
   "execution_count": null,
   "id": "6c7589d1-623d-40f2-a6f3-2cfa74b7c8ce",
   "metadata": {},
   "outputs": [],
   "source": []
  }
 ],
 "metadata": {
  "kernelspec": {
   "display_name": "Python 3",
   "language": "python",
   "name": "python3"
  },
  "language_info": {
   "codemirror_mode": {
    "name": "ipython",
    "version": 3
   },
   "file_extension": ".py",
   "mimetype": "text/x-python",
   "name": "python",
   "nbconvert_exporter": "python",
   "pygments_lexer": "ipython3",
   "version": "3.8.2"
  }
 },
 "nbformat": 4,
 "nbformat_minor": 5
}
