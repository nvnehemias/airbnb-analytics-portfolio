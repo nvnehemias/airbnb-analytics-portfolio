{
 "cells": [
  {
   "cell_type": "code",
   "execution_count": 1,
   "id": "f1911961-bf54-44be-b8aa-4b6db667597b",
   "metadata": {},
   "outputs": [],
   "source": [
    "# importing libaries\n",
    "import pandas as pd\n",
    "import numpy as np\n",
    "import matplotlib.pyplot as plt\n",
    "# import seaborn as sns\n",
    "from datetime import datetime"
   ]
  },
  {
   "cell_type": "code",
   "execution_count": 6,
   "id": "463f7801-fba4-4324-be43-a1cc213ce612",
   "metadata": {},
   "outputs": [
    {
     "name": "stdout",
     "output_type": "stream",
     "text": [
      "airnb.csv               airnb_desert.csv        airnb_luxe.csv\n",
      "airnb_clean.csv         airnb_desert_clean.csv  airnb_luxe_clean.csv\n"
     ]
    }
   ],
   "source": [
    "ls"
   ]
  },
  {
   "cell_type": "code",
   "execution_count": 7,
   "id": "fbc5363f-5a02-4c05-bd2e-3ccc1933e585",
   "metadata": {},
   "outputs": [],
   "source": [
    "df_1 = pd.read_csv('airnb_clean.csv')\n",
    "df_2 = pd.read_csv('airnb_desert_clean.csv')\n",
    "df_3 = pd.read_csv('airnb_luxe_clean.csv')"
   ]
  },
  {
   "cell_type": "code",
   "execution_count": 28,
   "id": "244a8f92-0dc1-4bfd-b9fa-11207172dbf9",
   "metadata": {},
   "outputs": [],
   "source": [
    "df_1_o = pd.read_csv('airnb.csv')\n",
    "df_2_o = pd.read_csv('airnb_desert.csv', encoding=\"cp1252\")\n",
    "df_3_o = pd.read_csv('airnb_luxe.csv', encoding=\"cp1252\")"
   ]
  },
  {
   "cell_type": "code",
   "execution_count": 29,
   "id": "9e155276-3ffc-4f6d-b08f-3897beb62167",
   "metadata": {},
   "outputs": [
    {
     "data": {
      "text/html": [
       "<div>\n",
       "<style scoped>\n",
       "    .dataframe tbody tr th:only-of-type {\n",
       "        vertical-align: middle;\n",
       "    }\n",
       "\n",
       "    .dataframe tbody tr th {\n",
       "        vertical-align: top;\n",
       "    }\n",
       "\n",
       "    .dataframe thead th {\n",
       "        text-align: right;\n",
       "    }\n",
       "</style>\n",
       "<table border=\"1\" class=\"dataframe\">\n",
       "  <thead>\n",
       "    <tr style=\"text-align: right;\">\n",
       "      <th></th>\n",
       "      <th>Title</th>\n",
       "      <th>Detail</th>\n",
       "      <th>Date</th>\n",
       "      <th>Price(in dollar)</th>\n",
       "      <th>Offer price(in dollar)</th>\n",
       "      <th>Review and rating</th>\n",
       "      <th>Number of bed</th>\n",
       "    </tr>\n",
       "  </thead>\n",
       "  <tbody>\n",
       "    <tr>\n",
       "      <th>0</th>\n",
       "      <td>Chalet in Skykomish, Washington, US</td>\n",
       "      <td>Sky Haus - A-Frame Cabin</td>\n",
       "      <td>Jun 11 - 16</td>\n",
       "      <td>306.00</td>\n",
       "      <td>229.00</td>\n",
       "      <td>4.85 (531)</td>\n",
       "      <td>4 beds</td>\n",
       "    </tr>\n",
       "    <tr>\n",
       "      <th>1</th>\n",
       "      <td>Cabin in Hancock, New York, US</td>\n",
       "      <td>The Catskill A-Frame - Mid-Century Modern Cabin</td>\n",
       "      <td>Jun 6 - 11</td>\n",
       "      <td>485.00</td>\n",
       "      <td>170.00</td>\n",
       "      <td>4.77 (146)</td>\n",
       "      <td>4 beds</td>\n",
       "    </tr>\n",
       "    <tr>\n",
       "      <th>2</th>\n",
       "      <td>Cabin in West Farmington, Ohio, US</td>\n",
       "      <td>The Triangle: A-Frame Cabin for your city retreat</td>\n",
       "      <td>Jul 9 - 14</td>\n",
       "      <td>119.00</td>\n",
       "      <td>522.00</td>\n",
       "      <td>4.91 (515)</td>\n",
       "      <td>4 beds</td>\n",
       "    </tr>\n",
       "    <tr>\n",
       "      <th>3</th>\n",
       "      <td>Home in Blue Ridge, Georgia, US</td>\n",
       "      <td>*Summer Sizzle* 5 Min to Blue Ridge* Pets* Hot...</td>\n",
       "      <td>Jun 11 - 16</td>\n",
       "      <td>192.00</td>\n",
       "      <td>348.00</td>\n",
       "      <td>4.94 (88)</td>\n",
       "      <td>5 beds</td>\n",
       "    </tr>\n",
       "    <tr>\n",
       "      <th>4</th>\n",
       "      <td>Treehouse in Grandview, Texas, US</td>\n",
       "      <td>Luxury Treehouse Couples Getaway w/ Peaceful V...</td>\n",
       "      <td>Jun 4 - 9</td>\n",
       "      <td>232.00</td>\n",
       "      <td>196.00</td>\n",
       "      <td>4.99 (222)</td>\n",
       "      <td>1 queen bed</td>\n",
       "    </tr>\n",
       "  </tbody>\n",
       "</table>\n",
       "</div>"
      ],
      "text/plain": [
       "                                 Title  \\\n",
       "0  Chalet in Skykomish, Washington, US   \n",
       "1       Cabin in Hancock, New York, US   \n",
       "2   Cabin in West Farmington, Ohio, US   \n",
       "3      Home in Blue Ridge, Georgia, US   \n",
       "4    Treehouse in Grandview, Texas, US   \n",
       "\n",
       "                                              Detail         Date  \\\n",
       "0                           Sky Haus - A-Frame Cabin  Jun 11 - 16   \n",
       "1    The Catskill A-Frame - Mid-Century Modern Cabin   Jun 6 - 11   \n",
       "2  The Triangle: A-Frame Cabin for your city retreat   Jul 9 - 14   \n",
       "3  *Summer Sizzle* 5 Min to Blue Ridge* Pets* Hot...  Jun 11 - 16   \n",
       "4  Luxury Treehouse Couples Getaway w/ Peaceful V...    Jun 4 - 9   \n",
       "\n",
       "  Price(in dollar) Offer price(in dollar) Review and rating Number of bed  \n",
       "0           306.00                 229.00        4.85 (531)        4 beds  \n",
       "1           485.00                 170.00        4.77 (146)        4 beds  \n",
       "2           119.00                 522.00        4.91 (515)        4 beds  \n",
       "3           192.00                 348.00         4.94 (88)        5 beds  \n",
       "4           232.00                 196.00        4.99 (222)   1 queen bed  "
      ]
     },
     "execution_count": 29,
     "metadata": {},
     "output_type": "execute_result"
    }
   ],
   "source": [
    "df_1_o.head()"
   ]
  },
  {
   "cell_type": "code",
   "execution_count": 16,
   "id": "b9c4940c-3adb-40d4-a15d-35dccf45c497",
   "metadata": {},
   "outputs": [],
   "source": [
    "df_1 = df_1.drop(columns=['Unnamed: 0'])"
   ]
  },
  {
   "cell_type": "code",
   "execution_count": 52,
   "id": "78e18134-c660-44fa-ac8a-5c5d485beeed",
   "metadata": {},
   "outputs": [],
   "source": [
    "# df_1.groupby(['Start Month']).sum(['Price(in dollar)']).reset_index()\n",
    "price_by_start_month = df_1.groupby('Start Month')['Price(in dollar)'].sum().reset_index().sort_values(by = 'Price(in dollar)', ascending = False)\n",
    "min_price_by_start_month = df_1.groupby('Start Month')['Price(in dollar)'].min().reset_index().sort_values(by = 'Price(in dollar)', ascending = False)\n",
    "max_price_by_start_month = df_1.groupby('Start Month')['Price(in dollar)'].max().reset_index().sort_values(by = 'Price(in dollar)', ascending = False)\n",
    "mean_price_by_start_month = df_1.groupby('Start Month')['Price(in dollar)'].mean().reset_index().sort_values(by = 'Price(in dollar)', ascending = False)"
   ]
  },
  {
   "cell_type": "code",
   "execution_count": 53,
   "id": "be867ee6-631d-43ea-b23c-b1a7d58259a7",
   "metadata": {
    "scrolled": true
   },
   "outputs": [
    {
     "data": {
      "text/html": [
       "<div>\n",
       "<style scoped>\n",
       "    .dataframe tbody tr th:only-of-type {\n",
       "        vertical-align: middle;\n",
       "    }\n",
       "\n",
       "    .dataframe tbody tr th {\n",
       "        vertical-align: top;\n",
       "    }\n",
       "\n",
       "    .dataframe thead th {\n",
       "        text-align: right;\n",
       "    }\n",
       "</style>\n",
       "<table border=\"1\" class=\"dataframe\">\n",
       "  <thead>\n",
       "    <tr style=\"text-align: right;\">\n",
       "      <th></th>\n",
       "      <th>Start Month</th>\n",
       "      <th>Price(in dollar)</th>\n",
       "    </tr>\n",
       "  </thead>\n",
       "  <tbody>\n",
       "    <tr>\n",
       "      <th>3</th>\n",
       "      <td>June</td>\n",
       "      <td>16194.0</td>\n",
       "    </tr>\n",
       "    <tr>\n",
       "      <th>2</th>\n",
       "      <td>July</td>\n",
       "      <td>3768.0</td>\n",
       "    </tr>\n",
       "    <tr>\n",
       "      <th>7</th>\n",
       "      <td>September</td>\n",
       "      <td>2358.0</td>\n",
       "    </tr>\n",
       "    <tr>\n",
       "      <th>4</th>\n",
       "      <td>May</td>\n",
       "      <td>2224.0</td>\n",
       "    </tr>\n",
       "    <tr>\n",
       "      <th>0</th>\n",
       "      <td>August</td>\n",
       "      <td>2183.0</td>\n",
       "    </tr>\n",
       "    <tr>\n",
       "      <th>6</th>\n",
       "      <td>October</td>\n",
       "      <td>541.0</td>\n",
       "    </tr>\n",
       "    <tr>\n",
       "      <th>1</th>\n",
       "      <td>January</td>\n",
       "      <td>513.0</td>\n",
       "    </tr>\n",
       "    <tr>\n",
       "      <th>5</th>\n",
       "      <td>November</td>\n",
       "      <td>60.0</td>\n",
       "    </tr>\n",
       "  </tbody>\n",
       "</table>\n",
       "</div>"
      ],
      "text/plain": [
       "  Start Month  Price(in dollar)\n",
       "3        June           16194.0\n",
       "2        July            3768.0\n",
       "7   September            2358.0\n",
       "4         May            2224.0\n",
       "0      August            2183.0\n",
       "6     October             541.0\n",
       "1     January             513.0\n",
       "5    November              60.0"
      ]
     },
     "execution_count": 53,
     "metadata": {},
     "output_type": "execute_result"
    }
   ],
   "source": [
    "price_by_start_month"
   ]
  },
  {
   "cell_type": "code",
   "execution_count": 54,
   "id": "872190d0-eafa-4870-ad49-425ed8977725",
   "metadata": {
    "scrolled": true
   },
   "outputs": [
    {
     "data": {
      "text/html": [
       "<div>\n",
       "<style scoped>\n",
       "    .dataframe tbody tr th:only-of-type {\n",
       "        vertical-align: middle;\n",
       "    }\n",
       "\n",
       "    .dataframe tbody tr th {\n",
       "        vertical-align: top;\n",
       "    }\n",
       "\n",
       "    .dataframe thead th {\n",
       "        text-align: right;\n",
       "    }\n",
       "</style>\n",
       "<table border=\"1\" class=\"dataframe\">\n",
       "  <thead>\n",
       "    <tr style=\"text-align: right;\">\n",
       "      <th></th>\n",
       "      <th>Start Month</th>\n",
       "      <th>Price(in dollar)</th>\n",
       "    </tr>\n",
       "  </thead>\n",
       "  <tbody>\n",
       "    <tr>\n",
       "      <th>1</th>\n",
       "      <td>January</td>\n",
       "      <td>513.0</td>\n",
       "    </tr>\n",
       "    <tr>\n",
       "      <th>4</th>\n",
       "      <td>May</td>\n",
       "      <td>90.0</td>\n",
       "    </tr>\n",
       "    <tr>\n",
       "      <th>6</th>\n",
       "      <td>October</td>\n",
       "      <td>76.0</td>\n",
       "    </tr>\n",
       "    <tr>\n",
       "      <th>5</th>\n",
       "      <td>November</td>\n",
       "      <td>60.0</td>\n",
       "    </tr>\n",
       "    <tr>\n",
       "      <th>7</th>\n",
       "      <td>September</td>\n",
       "      <td>43.0</td>\n",
       "    </tr>\n",
       "    <tr>\n",
       "      <th>2</th>\n",
       "      <td>July</td>\n",
       "      <td>32.0</td>\n",
       "    </tr>\n",
       "    <tr>\n",
       "      <th>0</th>\n",
       "      <td>August</td>\n",
       "      <td>30.0</td>\n",
       "    </tr>\n",
       "    <tr>\n",
       "      <th>3</th>\n",
       "      <td>June</td>\n",
       "      <td>17.0</td>\n",
       "    </tr>\n",
       "  </tbody>\n",
       "</table>\n",
       "</div>"
      ],
      "text/plain": [
       "  Start Month  Price(in dollar)\n",
       "1     January             513.0\n",
       "4         May              90.0\n",
       "6     October              76.0\n",
       "5    November              60.0\n",
       "7   September              43.0\n",
       "2        July              32.0\n",
       "0      August              30.0\n",
       "3        June              17.0"
      ]
     },
     "execution_count": 54,
     "metadata": {},
     "output_type": "execute_result"
    }
   ],
   "source": [
    "min_price_by_start_month"
   ]
  },
  {
   "cell_type": "code",
   "execution_count": 55,
   "id": "fc9daccb-fab6-4941-8775-95dd1d3fe6e6",
   "metadata": {},
   "outputs": [
    {
     "data": {
      "text/html": [
       "<div>\n",
       "<style scoped>\n",
       "    .dataframe tbody tr th:only-of-type {\n",
       "        vertical-align: middle;\n",
       "    }\n",
       "\n",
       "    .dataframe tbody tr th {\n",
       "        vertical-align: top;\n",
       "    }\n",
       "\n",
       "    .dataframe thead th {\n",
       "        text-align: right;\n",
       "    }\n",
       "</style>\n",
       "<table border=\"1\" class=\"dataframe\">\n",
       "  <thead>\n",
       "    <tr style=\"text-align: right;\">\n",
       "      <th></th>\n",
       "      <th>Start Month</th>\n",
       "      <th>Price(in dollar)</th>\n",
       "    </tr>\n",
       "  </thead>\n",
       "  <tbody>\n",
       "    <tr>\n",
       "      <th>1</th>\n",
       "      <td>January</td>\n",
       "      <td>513.000000</td>\n",
       "    </tr>\n",
       "    <tr>\n",
       "      <th>7</th>\n",
       "      <td>September</td>\n",
       "      <td>235.800000</td>\n",
       "    </tr>\n",
       "    <tr>\n",
       "      <th>4</th>\n",
       "      <td>May</td>\n",
       "      <td>185.333333</td>\n",
       "    </tr>\n",
       "    <tr>\n",
       "      <th>0</th>\n",
       "      <td>August</td>\n",
       "      <td>181.916667</td>\n",
       "    </tr>\n",
       "    <tr>\n",
       "      <th>3</th>\n",
       "      <td>June</td>\n",
       "      <td>160.336634</td>\n",
       "    </tr>\n",
       "    <tr>\n",
       "      <th>2</th>\n",
       "      <td>July</td>\n",
       "      <td>150.720000</td>\n",
       "    </tr>\n",
       "    <tr>\n",
       "      <th>6</th>\n",
       "      <td>October</td>\n",
       "      <td>135.250000</td>\n",
       "    </tr>\n",
       "    <tr>\n",
       "      <th>5</th>\n",
       "      <td>November</td>\n",
       "      <td>60.000000</td>\n",
       "    </tr>\n",
       "  </tbody>\n",
       "</table>\n",
       "</div>"
      ],
      "text/plain": [
       "  Start Month  Price(in dollar)\n",
       "1     January        513.000000\n",
       "7   September        235.800000\n",
       "4         May        185.333333\n",
       "0      August        181.916667\n",
       "3        June        160.336634\n",
       "2        July        150.720000\n",
       "6     October        135.250000\n",
       "5    November         60.000000"
      ]
     },
     "execution_count": 55,
     "metadata": {},
     "output_type": "execute_result"
    }
   ],
   "source": [
    "mean_price_by_start_month"
   ]
  },
  {
   "cell_type": "code",
   "execution_count": 56,
   "id": "bc0985ab-a482-4ae8-ae5e-21e0e3404dd0",
   "metadata": {},
   "outputs": [
    {
     "data": {
      "text/html": [
       "<div>\n",
       "<style scoped>\n",
       "    .dataframe tbody tr th:only-of-type {\n",
       "        vertical-align: middle;\n",
       "    }\n",
       "\n",
       "    .dataframe tbody tr th {\n",
       "        vertical-align: top;\n",
       "    }\n",
       "\n",
       "    .dataframe thead th {\n",
       "        text-align: right;\n",
       "    }\n",
       "</style>\n",
       "<table border=\"1\" class=\"dataframe\">\n",
       "  <thead>\n",
       "    <tr style=\"text-align: right;\">\n",
       "      <th></th>\n",
       "      <th>Start Month</th>\n",
       "      <th>Price(in dollar)</th>\n",
       "    </tr>\n",
       "  </thead>\n",
       "  <tbody>\n",
       "    <tr>\n",
       "      <th>3</th>\n",
       "      <td>June</td>\n",
       "      <td>1463.0</td>\n",
       "    </tr>\n",
       "    <tr>\n",
       "      <th>7</th>\n",
       "      <td>September</td>\n",
       "      <td>735.0</td>\n",
       "    </tr>\n",
       "    <tr>\n",
       "      <th>4</th>\n",
       "      <td>May</td>\n",
       "      <td>668.0</td>\n",
       "    </tr>\n",
       "    <tr>\n",
       "      <th>1</th>\n",
       "      <td>January</td>\n",
       "      <td>513.0</td>\n",
       "    </tr>\n",
       "    <tr>\n",
       "      <th>2</th>\n",
       "      <td>July</td>\n",
       "      <td>473.0</td>\n",
       "    </tr>\n",
       "    <tr>\n",
       "      <th>0</th>\n",
       "      <td>August</td>\n",
       "      <td>335.0</td>\n",
       "    </tr>\n",
       "    <tr>\n",
       "      <th>6</th>\n",
       "      <td>October</td>\n",
       "      <td>194.0</td>\n",
       "    </tr>\n",
       "    <tr>\n",
       "      <th>5</th>\n",
       "      <td>November</td>\n",
       "      <td>60.0</td>\n",
       "    </tr>\n",
       "  </tbody>\n",
       "</table>\n",
       "</div>"
      ],
      "text/plain": [
       "  Start Month  Price(in dollar)\n",
       "3        June            1463.0\n",
       "7   September             735.0\n",
       "4         May             668.0\n",
       "1     January             513.0\n",
       "2        July             473.0\n",
       "0      August             335.0\n",
       "6     October             194.0\n",
       "5    November              60.0"
      ]
     },
     "execution_count": 56,
     "metadata": {},
     "output_type": "execute_result"
    }
   ],
   "source": [
    "max_price_by_start_month"
   ]
  },
  {
   "cell_type": "code",
   "execution_count": null,
   "id": "e3eda832-f01e-4add-9e04-abc6c719e417",
   "metadata": {},
   "outputs": [],
   "source": []
  },
  {
   "cell_type": "code",
   "execution_count": null,
   "id": "11302308-570d-4421-83dc-2ff8479b777e",
   "metadata": {},
   "outputs": [],
   "source": []
  },
  {
   "cell_type": "markdown",
   "id": "7b8eaf54-2bfc-4cde-826e-bf5ae7c73698",
   "metadata": {},
   "source": [
    "### The month of June is exceptionally high total price (in dollars)."
   ]
  },
  {
   "cell_type": "code",
   "execution_count": 66,
   "id": "acb147c9-1e9f-4f6b-a012-f7b69075fd09",
   "metadata": {},
   "outputs": [],
   "source": [
    "june_only = df_1[df_1['Start Month'] == 'June'].sort_values(by = 'Price(in dollar)', ascending = False)"
   ]
  },
  {
   "cell_type": "code",
   "execution_count": 67,
   "id": "14305099-832a-478b-967d-b7c1872cac74",
   "metadata": {},
   "outputs": [
    {
     "data": {
      "image/png": "[encoded data removed]",
      "text/plain": [
       "<Figure size 640x480 with 1 Axes>"
      ]
     },
     "metadata": {},
     "output_type": "display_data"
    }
   ],
   "source": [
    "price_by_start_month.plot.bar(\n",
    "    x = 'Start Month',\n",
    "    y = 'Price(in dollar)',\n",
    "    title = 'Price (In Dollars)by Starting Month',\n",
    "    xlabel = 'Start Month',\n",
    "    ylabel = 'Price (Dollars)'\n",
    ")\n",
    "plt.show()"
   ]
  },
  {
   "cell_type": "code",
   "execution_count": 65,
   "id": "e4ba2ce9-817a-4587-85d7-4ffa1e4a775d",
   "metadata": {},
   "outputs": [
    {
     "data": {
      "image/png": "[encoded data removed]",
      "text/plain": [
       "<Figure size 1000x600 with 1 Axes>"
      ]
     },
     "metadata": {},
     "output_type": "display_data"
    }
   ],
   "source": [
    "plt.figure(figsize=(10,6))\n",
    "plt.hist(june_only['Price(in dollar)'], bins=50, edgecolor='black')\n",
    "plt.title(\"Distribution of June Airbnb Prices (In Dollars)\")\n",
    "plt.xlabel(\"Price\")\n",
    "plt.ylabel(\"Number of Listings\")\n",
    "plt.show()"
   ]
  }
 ],
 "metadata": {
  "kernelspec": {
   "display_name": "Python 3 (ipykernel)",
   "language": "python",
   "name": "python3"
  },
  "language_info": {
   "codemirror_mode": {
    "name": "ipython",
    "version": 3
   },
   "file_extension": ".py",
   "mimetype": "text/x-python",
   "name": "python",
   "nbconvert_exporter": "python",
   "pygments_lexer": "ipython3",
   "version": "3.10.18"
  }
 },
 "nbformat": 4,
 "nbformat_minor": 5
}
