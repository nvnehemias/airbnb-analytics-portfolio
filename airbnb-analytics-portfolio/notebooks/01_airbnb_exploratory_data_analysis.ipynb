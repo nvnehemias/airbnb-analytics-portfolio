{
 "cells": [
  {
   "cell_type": "code",
   "execution_count": null,
   "id": "0af5e080-f444-4dc6-ace0-9735e5405d8f",
   "metadata": {},
   "outputs": [],
   "source": []
  }
 ],
 "metadata": {
  "kernelspec": {
   "display_name": "",
   "name": ""
  },
  "language_info": {
   "name": ""
  }
 },
 "nbformat": 4,
 "nbformat_minor": 5
}
