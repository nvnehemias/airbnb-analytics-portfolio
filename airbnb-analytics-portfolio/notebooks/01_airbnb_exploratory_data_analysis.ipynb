{
 "cells": [
  {
   "cell_type": "code",
   "execution_count": 2,
   "id": "0af5e080-f444-4dc6-ace0-9735e5405d8f",
   "metadata": {},
   "outputs": [
    {
     "name": "stderr",
     "output_type": "stream",
     "text": [
      "Matplotlib is building the font cache; this may take a moment.\n"
     ]
    }
   ],
   "source": [
    "# importing libaries\n",
    "import pandas as pd\n",
    "import numpy as np\n",
    "import matplotlib.pyplot as plt\n",
    "import seaborn as sns"
   ]
  },
  {
   "cell_type": "code",
   "execution_count": 67,
   "id": "8370f83d-075e-4afe-86ee-1b106246da44",
   "metadata": {},
   "outputs": [
    {
     "name": "stdout",
     "output_type": "stream",
     "text": [
      "airnb.csv         airnb_desert.csv  airnb_luxe.csv\n"
     ]
    }
   ],
   "source": [
    "ls"
   ]
  },
  {
   "cell_type": "code",
   "execution_count": 72,
   "id": "ee68ed77-c7a7-4b5d-a01c-9f3cd2435696",
   "metadata": {},
   "outputs": [],
   "source": [
    "# load csv\n",
    "df_1 = pd.read_csv('../data/airnb.csv')\n",
    "df_2 = pd.read_csv('../data/airnb_desert.csv', encoding=\"cp1252\")\n",
    "df_3 = pd.read_csv('../data/airnb_luxe.csv', encoding=\"cp1252\")"
   ]
  },
  {
   "cell_type": "code",
   "execution_count": 49,
   "id": "e5dec4d0-3322-46c2-a4d0-18ee5fc298e0",
   "metadata": {},
   "outputs": [
    {
     "data": {
      "text/plain": [
       "Index(['Title', 'Detail', 'Date', 'Price(in dollar)', 'Offer price(in dollar)',\n",
       "       'Review and rating', 'Number of bed'],\n",
       "      dtype='object')"
      ]
     },
     "execution_count": 49,
     "metadata": {},
     "output_type": "execute_result"
    }
   ],
   "source": [
    "# print clumns\n",
    "df_1.columns"
   ]
  },
  {
   "cell_type": "code",
   "execution_count": 75,
   "id": "da672736-75db-4409-a8e8-befbd0ac3fc3",
   "metadata": {},
   "outputs": [
    {
     "data": {
      "text/plain": [
       "Index(['Desert name', 'Date', 'Price(In dollar)', 'Details', 'Rating'], dtype='object')"
      ]
     },
     "execution_count": 75,
     "metadata": {},
     "output_type": "execute_result"
    }
   ],
   "source": [
    "df_2.columns"
   ]
  },
  {
   "cell_type": "code",
   "execution_count": 76,
   "id": "ab74d7cb-4f13-47bb-a99f-d140aa4db32a",
   "metadata": {},
   "outputs": [
    {
     "data": {
      "text/plain": [
       "Index(['Luxe name', 'Date', 'Price(In dollar)', 'Distance'], dtype='object')"
      ]
     },
     "execution_count": 76,
     "metadata": {},
     "output_type": "execute_result"
    }
   ],
   "source": [
    "df_3.columns"
   ]
  },
  {
   "cell_type": "code",
   "execution_count": 73,
   "id": "0b3eb1a1-249a-4f37-a83a-a4c3691c7f01",
   "metadata": {},
   "outputs": [],
   "source": [
    "# create a function to find columns with nulls\n",
    "def null_columns(dataframe):\n",
    "    has_null_list = []\n",
    "    for i in range(len(dataframe.columns)):\n",
    "        is_null = bool(dataframe[dataframe.columns[i]].isnull().any()) # checking to see if column has any null values\n",
    "        if is_null == True:\n",
    "            column_name = dataframe.columns[i]\n",
    "            has_null_list.append(column_name)\n",
    "    return has_null_list"
   ]
  },
  {
   "cell_type": "code",
   "execution_count": 74,
   "id": "e0047701-0db6-41c5-b7da-653d4dcd2531",
   "metadata": {},
   "outputs": [
    {
     "data": {
      "text/plain": [
       "['Offer price(in dollar)', 'Review and rating']"
      ]
     },
     "execution_count": 74,
     "metadata": {},
     "output_type": "execute_result"
    }
   ],
   "source": [
    "null_columns(df_1)"
   ]
  },
  {
   "cell_type": "code",
   "execution_count": 77,
   "id": "a6f35f5b-d7de-4028-9f1d-9c892418f05e",
   "metadata": {},
   "outputs": [
    {
     "data": {
      "text/plain": [
       "['Rating']"
      ]
     },
     "execution_count": 77,
     "metadata": {},
     "output_type": "execute_result"
    }
   ],
   "source": [
    "null_columns(df_2)"
   ]
  },
  {
   "cell_type": "code",
   "execution_count": 78,
   "id": "deb7cc02-cd3c-4a5c-b0b5-e96f99352783",
   "metadata": {},
   "outputs": [
    {
     "data": {
      "text/plain": [
       "[]"
      ]
     },
     "execution_count": 78,
     "metadata": {},
     "output_type": "execute_result"
    }
   ],
   "source": [
    "null_columns(df_3)"
   ]
  }
 ],
 "metadata": {
  "kernelspec": {
   "display_name": "Python 3 (ipykernel)",
   "language": "python",
   "name": "python3"
  },
  "language_info": {
   "codemirror_mode": {
    "name": "ipython",
    "version": 3
   },
   "file_extension": ".py",
   "mimetype": "text/x-python",
   "name": "python",
   "nbconvert_exporter": "python",
   "pygments_lexer": "ipython3",
   "version": "3.10.18"
  }
 },
 "nbformat": 4,
 "nbformat_minor": 5
}
