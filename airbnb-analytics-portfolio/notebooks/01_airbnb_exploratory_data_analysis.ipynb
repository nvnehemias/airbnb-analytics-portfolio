{
 "cells": [
  {
   "cell_type": "code",
   "execution_count": 2,
   "id": "0af5e080-f444-4dc6-ace0-9735e5405d8f",
   "metadata": {},
   "outputs": [
    {
     "name": "stderr",
     "output_type": "stream",
     "text": [
      "Matplotlib is building the font cache; this may take a moment.\n"
     ]
    }
   ],
   "source": [
    "# importing libaries\n",
    "import pandas as pd\n",
    "import numpy as np\n",
    "import matplotlib.pyplot as plt\n",
    "import seaborn as sns"
   ]
  },
  {
   "cell_type": "code",
   "execution_count": 67,
   "id": "8370f83d-075e-4afe-86ee-1b106246da44",
   "metadata": {},
   "outputs": [
    {
     "name": "stdout",
     "output_type": "stream",
     "text": [
      "airnb.csv         airnb_desert.csv  airnb_luxe.csv\n"
     ]
    }
   ],
   "source": [
    "ls"
   ]
  },
  {
   "cell_type": "markdown",
   "id": "f87884bd-8534-476a-845c-441afe2fea95",
   "metadata": {},
   "source": [
    "## Load Datasets"
   ]
  },
  {
   "cell_type": "code",
   "execution_count": 72,
   "id": "ee68ed77-c7a7-4b5d-a01c-9f3cd2435696",
   "metadata": {},
   "outputs": [],
   "source": [
    "# load csv\n",
    "df_1 = pd.read_csv('../data/airnb.csv')\n",
    "df_2 = pd.read_csv('../data/airnb_desert.csv', encoding=\"cp1252\")\n",
    "df_3 = pd.read_csv('../data/airnb_luxe.csv', encoding=\"cp1252\")"
   ]
  },
  {
   "cell_type": "markdown",
   "id": "c145e3bb-5df5-47c2-af27-ca1139546072",
   "metadata": {},
   "source": [
    "## Inspecting Dataset"
   ]
  },
  {
   "cell_type": "code",
   "execution_count": 123,
   "id": "056fe94c-4558-4eb7-9c62-4a41052c398c",
   "metadata": {},
   "outputs": [
    {
     "name": "stdout",
     "output_type": "stream",
     "text": [
      "1. airnb.csv columns: ['Title', 'Detail', 'Date', 'Price(in dollar)', 'Offer price(in dollar)', 'Review and rating', 'Number of bed']\n",
      "2. airnb_desert.csv columns: ['Desert name', 'Date', 'Price(In dollar)', 'Details', 'Rating']\n",
      "3. airnb_luxe.csv columns: ['Luxe name', 'Date', 'Price(In dollar)', 'Distance']\n"
     ]
    }
   ],
   "source": [
    "print(f\"1. airnb.csv columns: {list(df_1.columns)}\")\n",
    "print(f\"2. airnb_desert.csv columns: {list(df_2.columns)}\")\n",
    "print(f\"3. airnb_luxe.csv columns: {list(df_3.columns)}\")"
   ]
  },
  {
   "cell_type": "code",
   "execution_count": 124,
   "id": "d5bd064d-14a5-4f76-85d9-0298835bfaef",
   "metadata": {},
   "outputs": [
    {
     "name": "stdout",
     "output_type": "stream",
     "text": [
      "1. airnb.csv size: rows 953 and 7 columns\n",
      "2. airnb_desert.csv size: rows 280 and 5 columns\n",
      "3. airnb_luxe.csv size: rows 280 and 4 columns\n"
     ]
    }
   ],
   "source": [
    "print(f\"1. airnb.csv size: rows {df_1.shape[0]} and {df_1.shape[1]} columns\")\n",
    "print(f\"2. airnb_desert.csv size: rows {df_2.shape[0]} and {df_2.shape[1]} columns\")\n",
    "print(f\"3. airnb_luxe.csv size: rows {df_3.shape[0]} and {df_3.shape[1]} columns\")"
   ]
  },
  {
   "cell_type": "code",
   "execution_count": 128,
   "id": "f359f524-7661-499d-bce7-3ae8cbab1596",
   "metadata": {},
   "outputs": [
    {
     "data": {
      "text/plain": [
       "Title                     object\n",
       "Detail                    object\n",
       "Date                      object\n",
       "Price(in dollar)          object\n",
       "Offer price(in dollar)    object\n",
       "Review and rating         object\n",
       "Number of bed             object\n",
       "dtype: object"
      ]
     },
     "execution_count": 128,
     "metadata": {},
     "output_type": "execute_result"
    }
   ],
   "source": [
    "df_1.dtypes"
   ]
  },
  {
   "cell_type": "code",
   "execution_count": 129,
   "id": "28fbef30-7bd3-4810-83fe-480984eac673",
   "metadata": {},
   "outputs": [
    {
     "data": {
      "text/plain": [
       "Desert name          object\n",
       "Date                 object\n",
       "Price(In dollar)     object\n",
       "Details              object\n",
       "Rating              float64\n",
       "dtype: object"
      ]
     },
     "execution_count": 129,
     "metadata": {},
     "output_type": "execute_result"
    }
   ],
   "source": [
    "df_2.dtypes"
   ]
  },
  {
   "cell_type": "code",
   "execution_count": 130,
   "id": "40966fea-cc8c-4eb1-abba-934d4a1cdd9d",
   "metadata": {},
   "outputs": [
    {
     "data": {
      "text/plain": [
       "Luxe name           object\n",
       "Date                object\n",
       "Price(In dollar)    object\n",
       "Distance            object\n",
       "dtype: object"
      ]
     },
     "execution_count": 130,
     "metadata": {},
     "output_type": "execute_result"
    }
   ],
   "source": [
    "df_3.dtypes"
   ]
  },
  {
   "cell_type": "markdown",
   "id": "5b571aac-ef8f-4b74-bbf7-b6020b73c145",
   "metadata": {},
   "source": [
    "## Handeling Null Values"
   ]
  },
  {
   "cell_type": "code",
   "execution_count": 73,
   "id": "0b3eb1a1-249a-4f37-a83a-a4c3691c7f01",
   "metadata": {},
   "outputs": [],
   "source": [
    "# create a function to find columns with nulls\n",
    "def null_columns(dataframe):\n",
    "    has_null_list = []\n",
    "    for i in range(len(dataframe.columns)):\n",
    "        is_null = bool(dataframe[dataframe.columns[i]].isnull().any()) # checking to see if column has any null values\n",
    "        if is_null == True:\n",
    "            column_name = dataframe.columns[i]\n",
    "            has_null_list.append(column_name)\n",
    "    return has_null_list"
   ]
  },
  {
   "cell_type": "code",
   "execution_count": 109,
   "id": "e0047701-0db6-41c5-b7da-653d4dcd2531",
   "metadata": {},
   "outputs": [
    {
     "name": "stdout",
     "output_type": "stream",
     "text": [
      "['Offer price(in dollar)', 'Review and rating']\n",
      "['Rating']\n",
      "[]\n"
     ]
    }
   ],
   "source": [
    "# Apply function and print out results\n",
    "first_function = null_columns(df_1)\n",
    "second_function = null_columns(df_2)\n",
    "third_function = null_columns(df_3)\n",
    "print(first_function)\n",
    "print(second_function)\n",
    "print(third_function)"
   ]
  },
  {
   "cell_type": "code",
   "execution_count": 110,
   "id": "3831f74e-7028-4c67-aada-852dbedfad79",
   "metadata": {},
   "outputs": [],
   "source": [
    "# Sizes of csv files\n",
    "df1_shape = df_1.shape[0]\n",
    "df2_shape = df_2.shape[0]"
   ]
  },
  {
   "cell_type": "code",
   "execution_count": 111,
   "id": "d3a1ba4c-d553-4660-b8f8-fabaf8288efc",
   "metadata": {},
   "outputs": [],
   "source": [
    "# Size of null values\n",
    "null_shape_1 = df_1[df_1['Offer price(in dollar)'].isnull()].shape[0]\n",
    "null_shape_2 = df_1[df_1['Review and rating'].isnull()].shape[0]\n",
    "null_shape_2_1 = df_2[df_2['Rating'].isnull()].shape[0]"
   ]
  },
  {
   "cell_type": "code",
   "execution_count": 113,
   "id": "82073d65-53ec-4bd8-93a3-f6cfd2f35221",
   "metadata": {},
   "outputs": [
    {
     "name": "stdout",
     "output_type": "stream",
     "text": [
      " Null values in the first csv file are 83.0% of the total file with null being in 'Offer price(in dollar)' column\n",
      " Null values in the first csv file are 2.0% of the total file with null being in 'Review and rating' column\n",
      " Null values in the second csv file are 40.0% of the total file with null being in 'Rating' column\n"
     ]
    }
   ],
   "source": [
    "# Print Message\n",
    "print(f\" Null values in the first csv file are {round(null_shape_1/df1_shape,2)*100}% of the total file with null being in '{first_function[0]}' column\")\n",
    "print(f\" Null values in the first csv file are {round(null_shape_2/df2_shape,2)*100}% of the total file with null being in '{first_function[1]}' column\")\n",
    "print(f\" Null values in the second csv file are {round(null_shape_2_1/df2_shape,2)*100}% of the total file with null being in '{second_function[0]}' column\")"
   ]
  },
  {
   "cell_type": "code",
   "execution_count": 118,
   "id": "97bdd5b9-278b-4598-8589-31ff216d280c",
   "metadata": {},
   "outputs": [],
   "source": [
    "# Drop null values\n",
    "df_clean = df_1.dropna(subset = ['Offer price(in dollar)'])"
   ]
  },
  {
   "cell_type": "code",
   "execution_count": 119,
   "id": "bd1260f4-f767-4476-b869-2f18eb96d772",
   "metadata": {},
   "outputs": [
    {
     "data": {
      "text/html": [
       "<div>\n",
       "<style scoped>\n",
       "    .dataframe tbody tr th:only-of-type {\n",
       "        vertical-align: middle;\n",
       "    }\n",
       "\n",
       "    .dataframe tbody tr th {\n",
       "        vertical-align: top;\n",
       "    }\n",
       "\n",
       "    .dataframe thead th {\n",
       "        text-align: right;\n",
       "    }\n",
       "</style>\n",
       "<table border=\"1\" class=\"dataframe\">\n",
       "  <thead>\n",
       "    <tr style=\"text-align: right;\">\n",
       "      <th></th>\n",
       "      <th>Title</th>\n",
       "      <th>Detail</th>\n",
       "      <th>Date</th>\n",
       "      <th>Price(in dollar)</th>\n",
       "      <th>Offer price(in dollar)</th>\n",
       "      <th>Review and rating</th>\n",
       "      <th>Number of bed</th>\n",
       "    </tr>\n",
       "  </thead>\n",
       "  <tbody>\n",
       "    <tr>\n",
       "      <th>0</th>\n",
       "      <td>Chalet in Skykomish, Washington, US</td>\n",
       "      <td>Sky Haus - A-Frame Cabin</td>\n",
       "      <td>Jun 11 - 16</td>\n",
       "      <td>306.00</td>\n",
       "      <td>229.00</td>\n",
       "      <td>4.85 (531)</td>\n",
       "      <td>4 beds</td>\n",
       "    </tr>\n",
       "    <tr>\n",
       "      <th>1</th>\n",
       "      <td>Cabin in Hancock, New York, US</td>\n",
       "      <td>The Catskill A-Frame - Mid-Century Modern Cabin</td>\n",
       "      <td>Jun 6 - 11</td>\n",
       "      <td>485.00</td>\n",
       "      <td>170.00</td>\n",
       "      <td>4.77 (146)</td>\n",
       "      <td>4 beds</td>\n",
       "    </tr>\n",
       "    <tr>\n",
       "      <th>2</th>\n",
       "      <td>Cabin in West Farmington, Ohio, US</td>\n",
       "      <td>The Triangle: A-Frame Cabin for your city retreat</td>\n",
       "      <td>Jul 9 - 14</td>\n",
       "      <td>119.00</td>\n",
       "      <td>522.00</td>\n",
       "      <td>4.91 (515)</td>\n",
       "      <td>4 beds</td>\n",
       "    </tr>\n",
       "    <tr>\n",
       "      <th>3</th>\n",
       "      <td>Home in Blue Ridge, Georgia, US</td>\n",
       "      <td>*Summer Sizzle* 5 Min to Blue Ridge* Pets* Hot...</td>\n",
       "      <td>Jun 11 - 16</td>\n",
       "      <td>192.00</td>\n",
       "      <td>348.00</td>\n",
       "      <td>4.94 (88)</td>\n",
       "      <td>5 beds</td>\n",
       "    </tr>\n",
       "    <tr>\n",
       "      <th>4</th>\n",
       "      <td>Treehouse in Grandview, Texas, US</td>\n",
       "      <td>Luxury Treehouse Couples Getaway w/ Peaceful V...</td>\n",
       "      <td>Jun 4 - 9</td>\n",
       "      <td>232.00</td>\n",
       "      <td>196.00</td>\n",
       "      <td>4.99 (222)</td>\n",
       "      <td>1 queen bed</td>\n",
       "    </tr>\n",
       "    <tr>\n",
       "      <th>...</th>\n",
       "      <td>...</td>\n",
       "      <td>...</td>\n",
       "      <td>...</td>\n",
       "      <td>...</td>\n",
       "      <td>...</td>\n",
       "      <td>...</td>\n",
       "      <td>...</td>\n",
       "    </tr>\n",
       "    <tr>\n",
       "      <th>828</th>\n",
       "      <td>Apartment in Houston</td>\n",
       "      <td>King Suite/Sky Lounge/Luxurious Experience.</td>\n",
       "      <td>May 1 - 6</td>\n",
       "      <td>108.00</td>\n",
       "      <td>148.00</td>\n",
       "      <td>4.85 (55)</td>\n",
       "      <td>2 beds</td>\n",
       "    </tr>\n",
       "    <tr>\n",
       "      <th>829</th>\n",
       "      <td>Cabin in Sevierville</td>\n",
       "      <td>Few days left in May</td>\n",
       "      <td>May 1 - 6</td>\n",
       "      <td>286.00</td>\n",
       "      <td>112.00</td>\n",
       "      <td>4.98 (263)</td>\n",
       "      <td>1 king bed</td>\n",
       "    </tr>\n",
       "    <tr>\n",
       "      <th>830</th>\n",
       "      <td>Cabin in Fountain Green</td>\n",
       "      <td>Cozy Private Mountain Cabin on 1,000 acre prop...</td>\n",
       "      <td>May 1 - 6</td>\n",
       "      <td>186.00</td>\n",
       "      <td>103.00</td>\n",
       "      <td>4.96 (78)</td>\n",
       "      <td>4 beds</td>\n",
       "    </tr>\n",
       "    <tr>\n",
       "      <th>882</th>\n",
       "      <td>Dome in El Prado</td>\n",
       "      <td>Geodesic Earth Dome</td>\n",
       "      <td>May 1 - 6</td>\n",
       "      <td>91.00</td>\n",
       "      <td>161.00</td>\n",
       "      <td>4.9 (953)</td>\n",
       "      <td>2 beds</td>\n",
       "    </tr>\n",
       "    <tr>\n",
       "      <th>936</th>\n",
       "      <td>Condo in Sunny Isles Beach</td>\n",
       "      <td>BEAUTIFULL CONDO IN THE HEART OF SUNNY ISLES.</td>\n",
       "      <td>May 1 - 6</td>\n",
       "      <td>151.00</td>\n",
       "      <td>159.00</td>\n",
       "      <td>4.57 (225)</td>\n",
       "      <td>3 beds</td>\n",
       "    </tr>\n",
       "  </tbody>\n",
       "</table>\n",
       "<p>166 rows × 7 columns</p>\n",
       "</div>"
      ],
      "text/plain": [
       "                                   Title  \\\n",
       "0    Chalet in Skykomish, Washington, US   \n",
       "1         Cabin in Hancock, New York, US   \n",
       "2     Cabin in West Farmington, Ohio, US   \n",
       "3        Home in Blue Ridge, Georgia, US   \n",
       "4      Treehouse in Grandview, Texas, US   \n",
       "..                                   ...   \n",
       "828                 Apartment in Houston   \n",
       "829                 Cabin in Sevierville   \n",
       "830              Cabin in Fountain Green   \n",
       "882                     Dome in El Prado   \n",
       "936           Condo in Sunny Isles Beach   \n",
       "\n",
       "                                                Detail         Date  \\\n",
       "0                             Sky Haus - A-Frame Cabin  Jun 11 - 16   \n",
       "1      The Catskill A-Frame - Mid-Century Modern Cabin   Jun 6 - 11   \n",
       "2    The Triangle: A-Frame Cabin for your city retreat   Jul 9 - 14   \n",
       "3    *Summer Sizzle* 5 Min to Blue Ridge* Pets* Hot...  Jun 11 - 16   \n",
       "4    Luxury Treehouse Couples Getaway w/ Peaceful V...    Jun 4 - 9   \n",
       "..                                                 ...          ...   \n",
       "828        King Suite/Sky Lounge/Luxurious Experience.    May 1 - 6   \n",
       "829                               Few days left in May    May 1 - 6   \n",
       "830  Cozy Private Mountain Cabin on 1,000 acre prop...    May 1 - 6   \n",
       "882                                Geodesic Earth Dome    May 1 - 6   \n",
       "936      BEAUTIFULL CONDO IN THE HEART OF SUNNY ISLES.    May 1 - 6   \n",
       "\n",
       "    Price(in dollar) Offer price(in dollar) Review and rating Number of bed  \n",
       "0             306.00                 229.00        4.85 (531)        4 beds  \n",
       "1             485.00                 170.00        4.77 (146)        4 beds  \n",
       "2             119.00                 522.00        4.91 (515)        4 beds  \n",
       "3             192.00                 348.00         4.94 (88)        5 beds  \n",
       "4             232.00                 196.00        4.99 (222)   1 queen bed  \n",
       "..               ...                    ...               ...           ...  \n",
       "828           108.00                 148.00         4.85 (55)        2 beds  \n",
       "829           286.00                 112.00        4.98 (263)    1 king bed  \n",
       "830           186.00                 103.00         4.96 (78)        4 beds  \n",
       "882            91.00                 161.00         4.9 (953)        2 beds  \n",
       "936           151.00                 159.00        4.57 (225)        3 beds  \n",
       "\n",
       "[166 rows x 7 columns]"
      ]
     },
     "execution_count": 119,
     "metadata": {},
     "output_type": "execute_result"
    }
   ],
   "source": [
    "df_clean"
   ]
  },
  {
   "cell_type": "code",
   "execution_count": null,
   "id": "640772c7-93b4-4fd0-97ca-0fd130f3d3da",
   "metadata": {},
   "outputs": [],
   "source": []
  },
  {
   "cell_type": "code",
   "execution_count": null,
   "id": "d73d3d91-5bb1-4929-807f-91a980595441",
   "metadata": {},
   "outputs": [],
   "source": []
  },
  {
   "cell_type": "code",
   "execution_count": null,
   "id": "a80eb888-9a72-4e8b-a694-1679d097fa93",
   "metadata": {},
   "outputs": [],
   "source": []
  },
  {
   "cell_type": "code",
   "execution_count": null,
   "id": "de25f40f-622b-4903-a042-d5666622777b",
   "metadata": {},
   "outputs": [],
   "source": []
  }
 ],
 "metadata": {
  "kernelspec": {
   "display_name": "Python 3 (ipykernel)",
   "language": "python",
   "name": "python3"
  },
  "language_info": {
   "codemirror_mode": {
    "name": "ipython",
    "version": 3
   },
   "file_extension": ".py",
   "mimetype": "text/x-python",
   "name": "python",
   "nbconvert_exporter": "python",
   "pygments_lexer": "ipython3",
   "version": "3.10.18"
  }
 },
 "nbformat": 4,
 "nbformat_minor": 5
}
