{
 "cells": [
  {
   "cell_type": "code",
   "execution_count": 2,
   "id": "0af5e080-f444-4dc6-ace0-9735e5405d8f",
   "metadata": {},
   "outputs": [
    {
     "name": "stderr",
     "output_type": "stream",
     "text": [
      "Matplotlib is building the font cache; this may take a moment.\n"
     ]
    }
   ],
   "source": [
    "# importing libaries\n",
    "import pandas as pd\n",
    "import numpy as np\n",
    "import matplotlib.pyplot as plt\n",
    "import seaborn as sns"
   ]
  },
  {
   "cell_type": "code",
   "execution_count": 48,
   "id": "ee68ed77-c7a7-4b5d-a01c-9f3cd2435696",
   "metadata": {},
   "outputs": [],
   "source": [
    "# load csv\n",
    "df_1 = pd.read_csv('../data/airnb.csv')"
   ]
  },
  {
   "cell_type": "code",
   "execution_count": 47,
   "id": "e5dec4d0-3322-46c2-a4d0-18ee5fc298e0",
   "metadata": {},
   "outputs": [
    {
     "data": {
      "text/plain": [
       "Index(['Title', 'Detail', 'Date', 'Price(in dollar)', 'Offer price(in dollar)',\n",
       "       'Review and rating', 'Number of bed'],\n",
       "      dtype='object')"
      ]
     },
     "execution_count": 47,
     "metadata": {},
     "output_type": "execute_result"
    }
   ],
   "source": [
    "# print clumns\n",
    "df_1.columns"
   ]
  },
  {
   "cell_type": "code",
   "execution_count": 46,
   "id": "35f0b319-1d85-4092-a308-39e4dd244a26",
   "metadata": {},
   "outputs": [
    {
     "data": {
      "text/plain": [
       "['Offer price(in dollar)', 'Review and rating']"
      ]
     },
     "execution_count": 46,
     "metadata": {},
     "output_type": "execute_result"
    }
   ],
   "source": [
    "# columns with null values\n",
    "has_null = []\n",
    "for i in range(len(df_1.columns)):\n",
    "    is_null = bool(df_1[df_1.columns[i]].isnull().any())\n",
    "    if is_null == True:\n",
    "        column_name = df_1.columns[i]\n",
    "        has_null.append(column_name)\n",
    "        \n",
    "has_null"
   ]
  }
 ],
 "metadata": {
  "kernelspec": {
   "display_name": "Python 3 (ipykernel)",
   "language": "python",
   "name": "python3"
  },
  "language_info": {
   "codemirror_mode": {
    "name": "ipython",
    "version": 3
   },
   "file_extension": ".py",
   "mimetype": "text/x-python",
   "name": "python",
   "nbconvert_exporter": "python",
   "pygments_lexer": "ipython3",
   "version": "3.10.18"
  }
 },
 "nbformat": 4,
 "nbformat_minor": 5
}
