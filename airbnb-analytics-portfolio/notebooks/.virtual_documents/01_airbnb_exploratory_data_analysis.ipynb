# importing libaries
import pandas as pd
import numpy as np
import matplotlib.pyplot as plt
# import seaborn as sns
from datetime import datetime


ls





# load csv
df_1 = pd.read_csv('../data/airnb.csv')
df_2 = pd.read_csv('../data/airnb_desert.csv', encoding="cp1252")
df_3 = pd.read_csv('../data/airnb_luxe.csv', encoding="cp1252")





print(f"1. airnb.csv columns: {list(df_1.columns)}")
print(f"2. airnb_desert.csv columns: {list(df_2.columns)}")
print(f"3. airnb_luxe.csv columns: {list(df_3.columns)}")


print(f"1. airnb.csv size: rows {df_1.shape[0]} and {df_1.shape[1]} columns")
print(f"2. airnb_desert.csv size: rows {df_2.shape[0]} and {df_2.shape[1]} columns")
print(f"3. airnb_luxe.csv size: rows {df_3.shape[0]} and {df_3.shape[1]} columns")


df_1.dtypes


df_2.dtypes


df_3.dtypes





# create a function to find columns with nulls
def null_columns(dataframe):
    has_null_list = []
    for i in range(len(dataframe.columns)):
        is_null = bool(dataframe[dataframe.columns[i]].isnull().any()) # checking to see if column has any null values
        if is_null == True:
            column_name = dataframe.columns[i]
            has_null_list.append(column_name)
    return has_null_list


# Apply function and print out results
first_function = null_columns(df_1)
second_function = null_columns(df_2)
third_function = null_columns(df_3)
print(first_function)
print(second_function)
print(third_function)


# Sizes of csv files
df1_shape = df_1.shape[0]
df2_shape = df_2.shape[0]


# Size of null values
null_shape_1 = df_1[df_1['Offer price(in dollar)'].isnull()].shape[0]
null_shape_2 = df_1[df_1['Review and rating'].isnull()].shape[0]
null_shape_2_1 = df_2[df_2['Rating'].isnull()].shape[0]


# Print Message
print(f" Null values in the first csv file are {round(null_shape_1/df1_shape,2)*100}% of the total file with null being in '{first_function[0]}' column")
# print(f" Null values in the first csv file are {round(null_shape_2/df2_shape,2)*100}% of the total file with null being in '{first_function[1]}' column")
# print(f" Null values in the second csv file are {round(null_shape_2_1/df2_shape,2)*100}% of the total file with null being in '{second_function[0]}' column")





# Drop null values
df_clean = df_1.dropna(subset = ['Offer price(in dollar)']).copy()


df_clean['Offer price(in dollar)'] = df_clean['Offer price(in dollar)'].apply(lambda x: str(x).replace(",","")).astype(float)


df_clean['Price(in dollar)'] = df_clean['Price(in dollar)'].apply(lambda x: str(x).replace(",","")).astype(float)


df_clean['Title'] = df_clean['Title'].astype(str)


df_clean.head()


df_clean.dtypes


df_clean.groupby("Date")["Date"].count()


df_clean[['Start Date','End Date']] = df_clean["Date"].str.split(' - ',expand = True)


# df_clean = df_clean.drop(['Date Range 1','Date Range 2'],axis =1)


df_clean


df_clean["Start Month"] = df_clean["Start Date"].str.split(" ",expand = True)[0]


df_clean.groupby(["Start Month"]).count()


# create month dictionary 
month_dict = {
    'Jan': 'January',
    'Feb': '',
    'Mar': '',
    'Apr': '',
    'May': 'May',
    'Jun': 'June',
    'Jul': 'July',
    'Aug': 'August',
    'Sep': 'September',
    'Oct': 'October',
    'Nov': 'November',
    'Dec': 'December',
}


df_clean["Start Month"] =df_clean["Start Month"].map(month_dict)


# df_clean = df_clean.drop(['Month'],axis =1)


df_clean["End Month"] = df_clean['End Date'].apply(lambda x: str(x).split(" ")[0] if str(x).split(" ")[0] in ['Jan','Feb','Mar','Apr','May','Jun','Jul','Aug','Sep','Oct','Nov','Dec'] else '')


df_clean["End Month"] = df_clean["End Month"].map(month_dict)


df_clean['End Month'] = df_clean['End Month'].fillna(df_clean['Start Month'])


df_clean['Clean End Date'] = df_clean['End Date'].apply(lambda x: str(x).split(" ")[1] if str(x).split(" ")[0] in [['Jan','Feb','Mar','Apr','May','Jun','Jul','Aug','Sep','Oct','Nov','Dec']] else str(x).split(" ")[0])


df_clean['End Date'] = df_clean['Clean End Date']
df_clean['Start Date'] = df_clean['Start Date'].apply(lambda x: str(x).split(" ")[1])


df_clean = df_clean.drop(['Clean End Date'], axis = 1)


df_clean['Date Range'] = df_clean['Date']


df_clean.columns


df_clean = df_clean.drop(['Date'], axis = 1)


df_clean.columns
new_column_order = ['Title', 'Detail', 'Date Range','Start Month','Start Date','End Month','End Date','Price(in dollar)', 'Offer price(in dollar)','Review and rating', 'Number of bed']


df_clean = df_clean[new_column_order]


df_clean.dtypes





df_2.head()


df_2.dtypes


df_2['Date Range'] = df_2['Date']


df_2['Price(In dollar)'] = df_2['Price(In dollar)'].apply(lambda x: str(x).replace(',',''))


df_2['Price(In dollar)'] = df_2['Price(In dollar)'].astype(float)


df_2.dtypes


df_2['Start Month'] = df_2['Date'].str.split(" ",expand = True)[0]
df_2['Start Date'] = df_2['Date'].str.split(" ",expand = True)[1]


df_2.head()





df_2.groupby(['Date Range']).count()


# df_2['End Date Range'] = 
df_2['End Date Range'] = df_2['Date'].str.split(" – ")


# df_2.head()
df_2[['Start Date','End Date']] = df_2["Date"].str.split(" – ",expand = True)


df_2['End Month'] = df_2['End Date'].apply(lambda x: str(x).split(" ")[0] if str(x).split(" ")[0] in ['Jan','Feb','Mar','Apr','May','Jun','Jul','Aug','Sep','Oct','Nov','Dec'] else '')


df_2['End Month'] = df_2['End Month'].fillna(df_2['Start Month'])


df_2.head()


df_2 = df_2.drop(['End Date Range'], axis = 1)


df_2['End Month'] = df_2['End Month'].fillna(df_clean['Start Month'])


# df_2.groupby(['End Month']).count().reset_index()[['End Month']].dtypes
df_2.groupby(['End Month']).count().reset_index()


df_2['End Month'] = df_2['End Month'].map(month_dict)


df_2.head()


df_2['End Month'] = df_2['End Month'].fillna(df_2['Start Month'])


df_2 = df_2.drop(['Date'],axis = 1)


df_2.dtypes


df_2.groupby(['Rating']).count().reset_index()[['Rating']]


df_2_replaced = df_2.replace({None: np.nan})


df_2_replaced.head()


# df_2_replaced['Rating'] = df_2_replaced['Rating'].astype(float)


df_2_replaced['Rating'] = df_2_replaced['Rating'].apply(lambda x: np.nan if str(x) == 'None' else x)


df_2_replaced['Rating'] = df_2_replaced['Rating'].astype(float)


df_2_replaced.dtypes


df_2_replaced['Start Date'] = df_2_replaced['Start Date'].str.split(' ' ,expand = True)[1].head()


df_2_replaced.columns


column_order = ['Desert name','Details','Rating','Price(In dollar)','Date Range','Start Month','Start Date','End Month','End Date']


df_2 = df_2_replaced[column_order]


df_2[df_2.duplicated()]


df_2 = df_2.drop_duplicates()
    # subset = None, keep = 'first', inplace = True, ignore_index = False)


df_2





df_3.head()


df_3.duplicated().sum()


df_3[df_3.duplicated()].sort_values(by = 'Luxe name')


df_3_no_dupes = df_3.drop_duplicates()


df_3_no_dupes['Start Date'] = df_3_no_dupes['Date'].str.split(' – ', expand = True)[0]
df_3_no_dupes['End Date'] = df_3_no_dupes['Date'].str.split(' – ', expand = True)[1]


df_3_no_dupes['Start Month'] = df_3_no_dupes['Start Date'].str.split(' ', expand = True)[0]


df_3_no_dupes


df_3_no_dupes['End Month'] = df_3_no_dupes['End Date'].apply(lambda x: str(x).split(" ")[0] if str(x).split(" ")[0] in ['Jan','Feb','Mar','Apr','May','Jun','Jul','Aug','Sep','Oct','Nov','Dec'] else '')


df_3_no_dupes['End Month'] = df_3_no_dupes['End Month'].map(month_dict)


df_3_no_dupes['End Month'] = df_3_no_dupes['End Month'].fillna(df_3_no_dupes['Start Month'])


df_3_no_dupes['Start Date'] = df_3_no_dupes['Start Date'].str.split(' ', expand = True)[1]


df_3_no_dupes['Price(In dollar)'] = df_3_no_dupes['Price(In dollar)'].str.replace(',','')


df_3_no_dupes['Price(In dollar)'] = df_3_no_dupes['Price(In dollar)'].astype(float)


df_3_no_dupes.head()


df_3_no_dupes['Start Date'] = df_3_no_dupes['Start Date'].astype(int)



df_3_no_dupes.groupby('End Date').count()


df_3_no_dupes['End Date'] = df_3_no_dupes['End Date'].apply(lambda x: str(x).split(" ")[1] if str(x).split(" ")[0] in ['Jan','Feb','Mar','Apr','May','Jun','Jul','Aug','Sep','Oct','Nov','Dec'] else x)


df_3_no_dupes.head()


df_3_no_dupes['End Date'] = df_3_no_dupes['End Date'].astype(int)


df_3_no_dupes.dtypes


df_3_renamed = df_3_no_dupes.rename(columns = {'Date': 'Date Range','Price(In dollar)': 'Price (In Dollars)'})


df_3_renamed.columns


columns = ['Luxe name', 'Date Range', 'Start Month','Start Date','End Month','End Date','Price (In Dollars)', 'Distance',]


df_3_clean = df_3_renamed[columns]


df_3_clean.head()





# df_1 = pd.read_csv('../data/airnb.csv')
# df_2 = pd.read_csv('../data/airnb_desert.csv', encoding="cp1252")
# df_3 = pd.read_csv('../data/airnb_luxe.csv', encoding="cp1252")


df_3_clean.to_csv('../data/airnb_luxe_clean.csv')


df_2.to_csv('../data/airnb_desert_clean.csv')


df_clean.to_csv('../data/airnb_clean.csv')
