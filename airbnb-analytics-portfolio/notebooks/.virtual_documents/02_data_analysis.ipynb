# importing libaries
import pandas as pd
import numpy as np
import matplotlib.pyplot as plt
# import seaborn as sns
from datetime import datetime


# cd data



df_1 = pd.read_csv('airnb_clean.csv')
df_2 = pd.read_csv('airnb_desert_clean.csv')
df_3 = pd.read_csv('airnb_luxe_clean.csv')


df_1_o = pd.read_csv('airnb.csv')
df_2_o = pd.read_csv('airnb_desert.csv', encoding="cp1252")
df_3_o = pd.read_csv('airnb_luxe.csv', encoding="cp1252")


df_1_o.head()


df_1 = df_1.drop(columns=['Unnamed: 0'])


# df_1.groupby(['Start Month']).sum(['Price(in dollar)']).reset_index()
price_by_start_month = df_1.groupby('Start Month')['Price(in dollar)'].sum().reset_index().sort_values(by = 'Price(in dollar)', ascending = False)
min_price_by_start_month = df_1.groupby('Start Month')['Price(in dollar)'].min().reset_index().sort_values(by = 'Price(in dollar)', ascending = False)
max_price_by_start_month = df_1.groupby('Start Month')['Price(in dollar)'].max().reset_index().sort_values(by = 'Price(in dollar)', ascending = False)
mean_price_by_start_month = df_1.groupby('Start Month')['Price(in dollar)'].mean().reset_index().sort_values(by = 'Price(in dollar)', ascending = False)


price_by_start_month


min_price_by_start_month


mean_price_by_start_month


max_price_by_start_month





june_only = df_1[df_1['Start Month'] == 'June'].sort_values(by = 'Price(in dollar)', ascending = False)


price_by_start_month.plot.bar(
    x = 'Start Month',
    y = 'Price(in dollar)',
    title = 'Price (In Dollars)by Starting Month'
)
plt.show()


# trying to find outliers

plt.figure(figsize=(10,6))
plt.hist(june_only['Price(in dollar)'], bins=50, edgecolor='black')
plt.title("Distribution of June Airbnb Prices (In Dollars)")
plt.xlabel("Price")
plt.ylabel("Number of Listings")
plt.show()


df_1_sorted = df_1.sort_values(by = 'Price(in dollar)', ascending = False)


df_1_clean = df_1_sorted[df_1_sorted['Price(in dollar)'] < 1463]


price_by_s_m = df_1_clean.groupby('Start Month')['Price(in dollar)'].sum().reset_index().sort_values(by = 'Price(in dollar)', ascending = False)


price_by_s_m.plot(x = 'Start Month', y = 'Price(in dollar)', kind = 'bar', figsize = (8,6))





df_grouped = df_1_clean.groupby('Start Month').sum().reset_index()


df_grouped['Start Month'][0]


df = df_1_clean['Start Month'].unique().tolist()


df[0]


def month_df(df, column_name):
    list_df = []
    for i in df[column_name].unique().tolist():
        var_name = f"df_{i}"
        globals()[var_name] = df[df[column_name] == i]
        list_df.append(globals()[var_name])
        print(f"Created variable: {var_name}")
    return list_df


list_dfs = month_df(df_1_clean,'Start Month');


def create_histo(list,column_name):
    for i in range(0,len(list)):
        df = list[i]
        month_name = df['Start Month'].iloc[0]
        plt.figure(figsize = (6,4))
        plt.hist(df[column_name],bins = 10, edgecolor = "black")
        plt.title(f"Price Distribution for {month_name}")
        plt.xlabel('Price')
        plt.ylabel('Number of Listings')
        plt.grid(axis="y", alpha=0.5)
        plt.show()
        


create_histo(list_dfs,'Price(in dollar)')





df_3.head()









